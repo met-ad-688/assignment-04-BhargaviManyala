{
  "cells": [
    {
      "cell_type": "markdown",
      "metadata": {},
      "source": [
        "---\n",
        "title: Assignment 04\n",
        "author:\n",
        "  - name: Bhargavi Manyala\n",
        "    affiliations:\n",
        "      - id: bu\n",
        "        name: Boston University\n",
        "        city: Boston\n",
        "        state: MA\n",
        "number-sections: true\n",
        "date: today\n",
        "date-modified: today\n",
        "date-format: long\n",
        "format:\n",
        "  html:\n",
        "    theme: cerulean\n",
        "    toc: true\n",
        "    toc-depth: 2\n",
        "engine: jupyter\n",
        "jupyter: assignment-04-kernel\n",
        "execute:\n",
        "  echo: true\n",
        "  eval: true\n",
        "  output: true\n",
        "  freeze: auto\n",
        "---\n",
        "\n",
        "# Load the Dataset"
      ]
    },
    {
      "cell_type": "code",
      "execution_count": 16,
      "metadata": {},
      "outputs": [
        {
          "name": "stderr",
          "output_type": "stream",
          "text": [
            "                                                                                \r"
          ]
        }
      ],
      "source": [
        "from pyspark.sql import SparkSession\n",
        "import pandas as pd\n",
        "import plotly.express as px\n",
        "import plotly.io as pio\n",
        "import numpy as np\n",
        "from pyspark.sql.functions import col, pow\n",
        "from pyspark.ml.feature import StringIndexer, OneHotEncoder, VectorAssembler\n",
        "from pyspark.ml import Pipeline\n",
        "from pyspark.sql.functions import col, when, expr, trim, regexp_replace\n",
        "from pyspark.sql.functions import col, sum\n",
        "import matplotlib.pyplot as plt\n",
        "\n",
        "\n",
        "np.random.seed(42)\n",
        "\n",
        "pio.renderers.default = \"notebook+notebook_connected+vscode\"\n",
        "\n",
        "# Initialize Spark Session\n",
        "spark = SparkSession.builder.appName(\"LightcastData\").getOrCreate()\n",
        "\n",
        "# Load Data\n",
        "df = (\n",
        "    spark.read\n",
        "    .option(\"header\", \"true\")\n",
        "    .option(\"inferSchema\", \"true\")\n",
        "    .option(\"multiLine\", \"true\")\n",
        "    .option(\"escape\", \"\\\"\")  \n",
        "    .csv(\"data/lightcast_job_postings.csv\")\n",
        "\n",
        ")\n",
        "\n",
        "df.createOrReplaceTempView(\"job_postings\")\n",
        "#df.show(5)\n"
      ]
    },
    {
      "cell_type": "markdown",
      "metadata": {},
      "source": [
        "# Feature Engineering"
      ]
    },
    {
      "cell_type": "markdown",
      "metadata": {},
      "source": [
        "### Take columns needed for anlaysis"
      ]
    },
    {
      "cell_type": "code",
      "execution_count": null,
      "metadata": {},
      "outputs": [
        {
          "name": "stdout",
          "output_type": "stream",
          "text": [
            "+------+--------------------+--------+-------------------+-------------+--------------+----------------+----------------------+-------------------+\n",
            "|SALARY|MIN_YEARS_EXPERIENCE|DURATION|COMPANY_IS_STAFFING|IS_INTERNSHIP|STATE_NAME    |REMOTE_TYPE_NAME|EMPLOYMENT_TYPE_NAME  |MIN_EDULEVELS_NAME |\n",
            "+------+--------------------+--------+-------------------+-------------+--------------+----------------+----------------------+-------------------+\n",
            "|192800|6                   |55      |false              |false        |Michigan      |[None]          |Full-time (> 32 hours)|Bachelor's degree  |\n",
            "|125900|12                  |18      |false              |false        |Arizona       |[None]          |Full-time (> 32 hours)|Associate degree   |\n",
            "|118560|5                   |20      |true               |false        |Indiana       |Remote          |Full-time (> 32 hours)|No Education Listed|\n",
            "|192800|6                   |55      |false              |false        |Ohio          |[None]          |Full-time (> 32 hours)|Bachelor's degree  |\n",
            "|116500|12                  |16      |false              |false        |Arizona       |[None]          |Full-time (> 32 hours)|Associate degree   |\n",
            "|166500|7                   |27      |false              |false        |Michigan      |[None]          |Full-time (> 32 hours)|Bachelor's degree  |\n",
            "|156038|2                   |15      |false              |false        |Oklahoma      |Remote          |Full-time (> 32 hours)|Master's degree    |\n",
            "|149695|10                  |50      |false              |false        |South Carolina|[None]          |Full-time (> 32 hours)|Bachelor's degree  |\n",
            "|161200|6                   |11      |false              |false        |Florida       |[None]          |Full-time (> 32 hours)|No Education Listed|\n",
            "|110000|3                   |11      |true               |false        |Texas         |[None]          |Full-time (> 32 hours)|Bachelor's degree  |\n",
            "|149695|10                  |50      |false              |false        |Ohio          |[None]          |Full-time (> 32 hours)|Bachelor's degree  |\n",
            "|131091|5                   |11      |false              |false        |California    |[None]          |Full-time (> 32 hours)|No Education Listed|\n",
            "|161200|7                   |15      |true               |false        |North Carolina|[None]          |Full-time (> 32 hours)|Bachelor's degree  |\n",
            "|136400|8                   |50      |false              |false        |California    |Hybrid Remote   |Full-time (> 32 hours)|Bachelor's degree  |\n",
            "|54080 |2                   |40      |true               |false        |Alaska        |[None]          |Full-time (> 32 hours)|No Education Listed|\n",
            "|161840|5                   |12      |false              |false        |Colorado      |Not Remote      |Full-time (> 32 hours)|No Education Listed|\n",
            "|64480 |0                   |33      |true               |false        |North Carolina|[None]          |Full-time (> 32 hours)|Bachelor's degree  |\n",
            "|141600|7                   |54      |false              |false        |South Carolina|Remote          |Full-time (> 32 hours)|Bachelor's degree  |\n",
            "|150000|7                   |5       |true               |false        |New Jersey    |[None]          |Full-time (> 32 hours)|Bachelor's degree  |\n",
            "|130000|5                   |5       |false              |false        |Massachusetts |Remote          |Full-time (> 32 hours)|Bachelor's degree  |\n",
            "+------+--------------------+--------+-------------------+-------------+--------------+----------------+----------------------+-------------------+\n",
            "only showing top 20 rows\n",
            "\n"
          ]
        },
        {
          "name": "stderr",
          "output_type": "stream",
          "text": [
            "[Stage 157:>                                                        (0 + 1) / 1]\r"
          ]
        },
        {
          "name": "stdout",
          "output_type": "stream",
          "text": [
            "+----------------------------+\n",
            "|MIN_EDULEVELS_NAME          |\n",
            "+----------------------------+\n",
            "|Bachelor's degree           |\n",
            "|Ph.D. or professional degree|\n",
            "|High school or GED          |\n",
            "|Master's degree             |\n",
            "|No Education Listed         |\n",
            "|Associate degree            |\n",
            "+----------------------------+\n",
            "\n"
          ]
        },
        {
          "name": "stderr",
          "output_type": "stream",
          "text": [
            "                                                                                \r"
          ]
        }
      ],
      "source": [
        "eda_cols = [\n",
        "    \"SALARY\",\n",
        "    \"MIN_YEARS_EXPERIENCE\",\n",
        "    \"DURATION\",\n",
        "    \"COMPANY_IS_STAFFING\", \n",
        "    \"IS_INTERNSHIP\",\n",
        "    \"STATE_NAME\",\n",
        "    \"REMOTE_TYPE_NAME\",\n",
        "    \"EMPLOYMENT_TYPE_NAME\",\n",
        "    \"MIN_EDULEVELS_NAME\"\n",
        "]\n",
        "\n",
        "df_eda = df.dropna(subset=eda_cols)\n",
        "df_eda = df_eda.select(eda_cols)\n",
        "df_eda.show(truncate=False)\n",
        "\n",
        "\n",
        "\n"
      ]
    },
    {
      "cell_type": "markdown",
      "metadata": {},
      "source": [
        "### Clean categorical columns \n"
      ]
    },
    {
      "cell_type": "code",
      "execution_count": null,
      "metadata": {},
      "outputs": [
        {
          "name": "stdout",
          "output_type": "stream",
          "text": [
            "\n",
            "---- REMOTE_TYPE_NAME ----\n"
          ]
        },
        {
          "name": "stderr",
          "output_type": "stream",
          "text": [
            "                                                                                \r"
          ]
        },
        {
          "name": "stdout",
          "output_type": "stream",
          "text": [
            "+----------------+\n",
            "|REMOTE_TYPE_NAME|\n",
            "+----------------+\n",
            "|Remote          |\n",
            "|On Premise      |\n",
            "|Hybrid          |\n",
            "|Undefined       |\n",
            "+----------------+\n",
            "\n",
            "\n",
            "---- EMPLOYMENT_TYPE_NAME ----\n"
          ]
        },
        {
          "name": "stderr",
          "output_type": "stream",
          "text": [
            "                                                                                \r"
          ]
        },
        {
          "name": "stdout",
          "output_type": "stream",
          "text": [
            "+--------------------+\n",
            "|EMPLOYMENT_TYPE_NAME|\n",
            "+--------------------+\n",
            "|Flexible            |\n",
            "|Fulltime            |\n",
            "|Parttime            |\n",
            "+--------------------+\n",
            "\n",
            "\n",
            "---- MIN_EDULEVELS_NAME ----\n"
          ]
        },
        {
          "name": "stderr",
          "output_type": "stream",
          "text": [
            "                                                                                \r"
          ]
        },
        {
          "name": "stdout",
          "output_type": "stream",
          "text": [
            "+------------------+\n",
            "|MIN_EDULEVELS_NAME|\n",
            "+------------------+\n",
            "|High School       |\n",
            "|None              |\n",
            "|Associate         |\n",
            "|PhD               |\n",
            "|Bachelor's        |\n",
            "|Master's          |\n",
            "+------------------+\n",
            "\n",
            "\n",
            "---- COMPANY_IS_STAFFING ----\n"
          ]
        },
        {
          "name": "stderr",
          "output_type": "stream",
          "text": [
            "                                                                                \r"
          ]
        },
        {
          "name": "stdout",
          "output_type": "stream",
          "text": [
            "+-------------------+\n",
            "|COMPANY_IS_STAFFING|\n",
            "+-------------------+\n",
            "|true               |\n",
            "|false              |\n",
            "+-------------------+\n",
            "\n",
            "\n",
            "---- IS_INTERNSHIP ----\n"
          ]
        },
        {
          "name": "stderr",
          "output_type": "stream",
          "text": [
            "[Stage 172:>                                                        (0 + 1) / 1]\r"
          ]
        },
        {
          "name": "stdout",
          "output_type": "stream",
          "text": [
            "+-------------+\n",
            "|IS_INTERNSHIP|\n",
            "+-------------+\n",
            "|true         |\n",
            "|false        |\n",
            "+-------------+\n",
            "\n"
          ]
        },
        {
          "name": "stderr",
          "output_type": "stream",
          "text": [
            "                                                                                \r"
          ]
        }
      ],
      "source": [
        "\n",
        "# Clean Remote Type Name\n",
        "\n",
        "df_eda = df_eda.withColumn(\n",
        "    \"REMOTE_TYPE_NAME\",\n",
        "    when(col(\"REMOTE_TYPE_NAME\") == \"Remote\", \"Remote\")\n",
        "    .when(col(\"REMOTE_TYPE_NAME\") == \"[None]\", \"Undefined\")\n",
        "    .when(col(\"REMOTE_TYPE_NAME\") == \"Not Remote\", \"On Premise\")\n",
        "    .when(col(\"REMOTE_TYPE_NAME\") == \"Hybrid Remote\", \"Hybrid\")\n",
        "    .when(col(\"REMOTE_TYPE_NAME\").isNull(), \"On Premise\")\n",
        "    .otherwise(col(\"REMOTE_TYPE_NAME\"))\n",
        ")\n",
        "\n",
        "# Clean Employment Type Name\n",
        "\n",
        "df_eda = df_eda.withColumn(\n",
        "    \"EMPLOYMENT_TYPE_NAME\",\n",
        "    when(col(\"EMPLOYMENT_TYPE_NAME\") == \"Part-time / full-time\", \"Flexible\")\n",
        "    .when(col(\"EMPLOYMENT_TYPE_NAME\") == \"Part-time (â‰¤ 32 hours)\", \"Parttime\")\n",
        "    .when(col(\"EMPLOYMENT_TYPE_NAME\") == \"Full-time (> 32 hours)\", \"Fulltime\")\n",
        "    .when(col(\"EMPLOYMENT_TYPE_NAME\").isNull(), \"Fulltime\")\n",
        "    .otherwise(col(\"EMPLOYMENT_TYPE_NAME\"))\n",
        ")\n",
        "\n",
        "\n",
        "# Clean Education level Name\n",
        "\n",
        "df_eda = df_eda.withColumn(\n",
        "    \"MIN_EDULEVELS_NAME\",\n",
        "    when(col(\"MIN_EDULEVELS_NAME\") == \"Bachelor's degree\", \"Bachelor's\")\n",
        "    .when(col(\"MIN_EDULEVELS_NAME\") == \"Ph.D. or professional degree\", \"PhD\")\n",
        "    .when(col(\"MIN_EDULEVELS_NAME\") == \"High school or GED\", \"High School\")\n",
        "    .when(col(\"MIN_EDULEVELS_NAME\") == \"Master's degree\", \"Master's\")\n",
        "    .when(col(\"MIN_EDULEVELS_NAME\") == \"No Education Listed\", \"None\")\n",
        "    .when(col(\"MIN_EDULEVELS_NAME\") == \"Associate degree\", \"Associate\")\n",
        "    .when(col(\"MIN_EDULEVELS_NAME\").isNull(), \"None\")\n",
        "    .otherwise(col(\"MIN_EDULEVELS_NAME\"))\n",
        ")\n",
        "\n",
        "# Clean Company Staffing\n",
        "\n",
        "df_eda = df_eda.withColumn(\n",
        "    \"COMPANY_IS_STAFFING\",\n",
        "    when(col(\"COMPANY_IS_STAFFING\").isNull(), False)\n",
        "    .otherwise(col(\"COMPANY_IS_STAFFING\"))\n",
        ")\n",
        "\n",
        "# Clean Internship\n",
        "\n",
        "df_eda = df_eda.withColumn(\n",
        "    \"IS_INTERNSHIP\",\n",
        "    when(col(\"IS_INTERNSHIP\").isNull(), False)\n",
        "    .otherwise(col(\"IS_INTERNSHIP\"))\n",
        ")\n",
        "\n",
        "categorical_cols = [\n",
        "    \"REMOTE_TYPE_NAME\", \"EMPLOYMENT_TYPE_NAME\",\n",
        "    \"MIN_EDULEVELS_NAME\", \"COMPANY_IS_STAFFING\", \"IS_INTERNSHIP\"\n",
        "]\n",
        "\n",
        "for colname in categorical_cols:\n",
        "    print(f\"\\n---- {colname} ----\")\n",
        "    df_eda.select(colname).distinct().show(truncate=False)\n",
        "\n"
      ]
    }
  ],
  "metadata": {
    "kernelspec": {
      "display_name": ".venv",
      "language": "python",
      "name": "python3"
    },
    "language_info": {
      "codemirror_mode": {
        "name": "ipython",
        "version": 3
      },
      "file_extension": ".py",
      "mimetype": "text/x-python",
      "name": "python",
      "nbconvert_exporter": "python",
      "pygments_lexer": "ipython3",
      "version": "3.12.3"
    }
  },
  "nbformat": 4,
  "nbformat_minor": 4
}
