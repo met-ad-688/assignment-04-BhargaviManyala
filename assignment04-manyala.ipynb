{
  "cells": [
    {
      "cell_type": "markdown",
      "metadata": {},
      "source": [
        "---\n",
        "title: Assignment 04\n",
        "author:\n",
        "  - name: Bhargavi Manyala\n",
        "    affiliations:\n",
        "      - id: bu\n",
        "        name: Boston University\n",
        "        city: Boston\n",
        "        state: MA\n",
        "number-sections: true\n",
        "date: today\n",
        "date-modified: today\n",
        "date-format: long\n",
        "format:\n",
        "  html:\n",
        "    theme: cerulean\n",
        "    toc: true\n",
        "    toc-depth: 2\n",
        "engine: jupyter\n",
        "jupyter: assignment-04-kernel\n",
        "execute:\n",
        "  echo: true\n",
        "  eval: true\n",
        "  output: true\n",
        "  freeze: auto\n",
        "---\n",
        "\n",
        "# Load the Dataset"
      ]
    },
    {
      "cell_type": "code",
      "execution_count": 7,
      "metadata": {},
      "outputs": [
        {
          "name": "stderr",
          "output_type": "stream",
          "text": [
            "                                                                                \r"
          ]
        }
      ],
      "source": [
        "from pyspark.sql import SparkSession\n",
        "import pandas as pd\n",
        "import plotly.express as px\n",
        "import plotly.io as pio\n",
        "import numpy as np\n",
        "\n",
        "\n",
        "np.random.seed(42)\n",
        "\n",
        "pio.renderers.default = \"notebook+notebook_connected+vscode\"\n",
        "\n",
        "# Initialize Spark Session\n",
        "spark = SparkSession.builder.appName(\"LightcastData\").getOrCreate()\n",
        "\n",
        "# Load Data\n",
        "df = (\n",
        "    spark.read\n",
        "    .option(\"header\", \"true\")\n",
        "    .option(\"inferSchema\", \"true\")\n",
        "    .option(\"multiLine\", \"true\")\n",
        "    .option(\"escape\", \"\\\"\")  \n",
        "    .csv(\"data/lightcast_job_postings.csv\")\n",
        "\n",
        ")\n",
        "\n",
        "df.createOrReplaceTempView(\"job_postings\")\n",
        "#df.show(5)\n"
      ]
    },
    {
      "cell_type": "markdown",
      "metadata": {},
      "source": [
        "# Missing Value Treatment"
      ]
    },
    {
      "cell_type": "code",
      "execution_count": 8,
      "metadata": {},
      "outputs": [
        {
          "name": "stderr",
          "output_type": "stream",
          "text": [
            "                                                                                \r"
          ]
        }
      ],
      "source": [
        "# Missing Value Treatment\n",
        "\n",
        "from pyspark.sql import Window \n",
        "from pyspark.sql import functions as F\n",
        "from pyspark.sql.functions import col, when, isnan, count, expr\n",
        "\n",
        "# Overall median salary\n",
        "overall_median_salary = df.approxQuantile(\"SALARY\", [0.5], 0.01)[0]\n",
        "\n",
        "# Median salary by EMPLOYMENT_TYPE\n",
        "median_by_employment_type = (\n",
        "    df.groupBy(\"EMPLOYMENT_TYPE\")\n",
        "      .agg(expr(\"percentile_approx(SALARY, 0.5)\").alias(\"median_salary_emp_type\"))\n",
        ")\n",
        "\n",
        "#  Median salary by EMPLOYMENT_TYPE_NAME\n",
        "median_by_employment_type_name = (\n",
        "    df.groupBy(\"EMPLOYMENT_TYPE_NAME\")\n",
        "      .agg(expr(\"percentile_approx(SALARY, 0.5)\").alias(\"median_salary_emp_type_name\"))\n",
        ")\n",
        "\n",
        "# Impute SALARY\n",
        "df_salary_imputed = (\n",
        "    df.join(median_by_employment_type, on=\"EMPLOYMENT_TYPE\", how=\"left\")\n",
        "      .join(median_by_employment_type_name, on=\"EMPLOYMENT_TYPE_NAME\", how=\"left\")\n",
        "      .withColumn(\n",
        "          \"SALARY\",\n",
        "          F.when(\n",
        "              col(\"SALARY\").isNull(),\n",
        "              F.coalesce(\n",
        "                  col(\"median_salary_emp_type\"),\n",
        "                  col(\"median_salary_emp_type_name\"),\n",
        "                  F.lit(overall_median_salary)\n",
        "              )\n",
        "          ).otherwise(col(\"SALARY\"))\n",
        "      )\n",
        "      .drop(\"median_salary_emp_type\", \"median_salary_emp_type_name\")\n",
        ")\n",
        "\n",
        "# Join median values back to the original dataframe\n",
        "df_salary_imputed = (\n",
        "    df.join(median_by_employment_type, on=\"EMPLOYMENT_TYPE\", how=\"left\")\n",
        "      .join(median_by_employment_type_name, on=\"EMPLOYMENT_TYPE_NAME\", how=\"left\")\n",
        ")\n",
        "\n",
        "# Replace missing SALARY values\n",
        "df_salary_imputed = df_salary_imputed.withColumn(\n",
        "    \"SALARY\",\n",
        "    when(col(\"SALARY\").isNull(),\n",
        "         when(col(\"median_salary_emp_type\").isNotNull(), col(\"median_salary_emp_type\"))\n",
        "         .when(col(\"median_salary_emp_type_name\").isNotNull(), col(\"median_salary_emp_type_name\"))\n",
        "         .otherwise(overall_median_salary)\n",
        "    ).otherwise(col(\"SALARY\"))\n",
        ")\n",
        "\n",
        "\n"
      ]
    },
    {
      "cell_type": "markdown",
      "metadata": {},
      "source": [
        "# Feature Engineering"
      ]
    },
    {
      "cell_type": "markdown",
      "metadata": {},
      "source": [
        "### Take columns needed for anlaysis"
      ]
    },
    {
      "cell_type": "code",
      "execution_count": 9,
      "metadata": {},
      "outputs": [
        {
          "name": "stderr",
          "output_type": "stream",
          "text": [
            "                                                                                \r"
          ]
        },
        {
          "name": "stdout",
          "output_type": "stream",
          "text": [
            "+--------+--------------------+--------------------+-----------------------------+----------------------+----------------+--------+-------------+-------------------+----------------------+---------------------------+\n",
            "|SALARY  |MIN_YEARS_EXPERIENCE|MAX_YEARS_EXPERIENCE|EDUCATION_LEVELS_NAME        |EMPLOYMENT_TYPE_NAME  |REMOTE_TYPE_NAME|DURATION|IS_INTERNSHIP|COMPANY_IS_STAFFING|median_salary_emp_type|median_salary_emp_type_name|\n",
            "+--------+--------------------+--------------------+-----------------------------+----------------------+----------------+--------+-------------+-------------------+----------------------+---------------------------+\n",
            "|116500.0|2                   |2                   |[\\n  \"Bachelor's degree\"\\n]  |Full-time (> 32 hours)|[None]          |6       |0            |0                  |116500                |116500                     |\n",
            "|116500.0|7                   |7                   |[\\n  \"No Education Listed\"\\n]|Full-time (> 32 hours)|[None]          |18      |0            |1                  |116500                |116500                     |\n",
            "|116500.0|1                   |1                   |[\\n  \"No Education Listed\"\\n]|Full-time (> 32 hours)|[None]          |8       |0            |1                  |116500                |116500                     |\n",
            "|116500.0|1                   |1                   |[\\n  \"Bachelor's degree\"\\n]  |Full-time (> 32 hours)|[None]          |32      |0            |0                  |116500                |116500                     |\n",
            "|131100.0|2                   |2                   |[\\n  \"Bachelor's degree\"\\n]  |Full-time (> 32 hours)|[None]          |11      |0            |0                  |116500                |116500                     |\n",
            "+--------+--------------------+--------------------+-----------------------------+----------------------+----------------+--------+-------------+-------------------+----------------------+---------------------------+\n",
            "only showing top 5 rows\n",
            "\n"
          ]
        }
      ],
      "source": [
        "\n",
        "from pyspark.sql.functions import col, pow\n",
        "from pyspark.ml.feature import StringIndexer, OneHotEncoder, VectorAssembler\n",
        "from pyspark.ml import Pipeline\n",
        "from pyspark.sql.types import BooleanType, StringType, IntegerType\n",
        "from pyspark.sql.types import IntegerType, DoubleType, DecimalType\n",
        "from pyspark.sql.functions import regexp_replace, trim\n",
        "\n",
        "# Drop rows with NA values \n",
        "regression_df = df_salary_imputed.dropna(subset=[\n",
        "    \"SALARY\", \"MIN_YEARS_EXPERIENCE\", \"MAX_YEARS_EXPERIENCE\",\n",
        "    \"EDUCATION_LEVELS_NAME\", \"EMPLOYMENT_TYPE_NAME\", \"REMOTE_TYPE_NAME\",\n",
        "    \"DURATION\", \"IS_INTERNSHIP\", \"COMPANY_IS_STAFFING\"\n",
        "]).select(\n",
        "    \"SALARY\", \"MIN_YEARS_EXPERIENCE\", \"MAX_YEARS_EXPERIENCE\",\n",
        "    \"EDUCATION_LEVELS_NAME\", \"EMPLOYMENT_TYPE_NAME\", \"REMOTE_TYPE_NAME\",\n",
        "    \"DURATION\", \"IS_INTERNSHIP\", \"COMPANY_IS_STAFFING\",\n",
        "    \"median_salary_emp_type\", \"median_salary_emp_type_name\"\n",
        ")\n",
        "\n",
        "# Cast Duration to integer\n",
        "regression_df = regression_df.withColumn(\"DURATION\", col(\"DURATION\").cast(IntegerType()))\n",
        "\n",
        "# Categorical columns\n",
        "categorical_cols = [\n",
        "    \"EDUCATION_LEVELS_NAME\", \"EMPLOYMENT_TYPE_NAME\", \"REMOTE_TYPE_NAME\", \"IS_INTERNSHIP\", \"COMPANY_IS_STAFFING\"\n",
        "]\n",
        "\n",
        "# Cast boolean columns to integer\n",
        "regression_df = regression_df.withColumn(\"IS_INTERNSHIP\", col(\"IS_INTERNSHIP\").cast(IntegerType()))\n",
        "regression_df = regression_df.withColumn(\"COMPANY_IS_STAFFING\", col(\"COMPANY_IS_STAFFING\").cast(IntegerType()))\n",
        "\n",
        "\n",
        "regression_df.show(5, truncate=False)\n",
        "\n",
        "\n",
        "\n",
        "\n"
      ]
    },
    {
      "cell_type": "markdown",
      "metadata": {},
      "source": [
        "### Clean categorical columns \n"
      ]
    },
    {
      "cell_type": "code",
      "execution_count": null,
      "metadata": {},
      "outputs": [
        {
          "name": "stdout",
          "output_type": "stream",
          "text": [
            "\n",
            "---- REMOTE_TYPE_NAME ----\n"
          ]
        },
        {
          "ename": "NameError",
          "evalue": "name 'df_eda' is not defined",
          "output_type": "error",
          "traceback": [
            "\u001b[31m---------------------------------------------------------------------------\u001b[39m",
            "\u001b[31mNameError\u001b[39m                                 Traceback (most recent call last)",
            "\u001b[36mCell\u001b[39m\u001b[36m \u001b[39m\u001b[32mIn[10]\u001b[39m\u001b[32m, line 36\u001b[39m\n\u001b[32m     34\u001b[39m \u001b[38;5;28;01mfor\u001b[39;00m colname \u001b[38;5;129;01min\u001b[39;00m categorical_cols:\n\u001b[32m     35\u001b[39m     \u001b[38;5;28mprint\u001b[39m(\u001b[33mf\u001b[39m\u001b[33m\"\u001b[39m\u001b[38;5;130;01m\\n\u001b[39;00m\u001b[33m---- \u001b[39m\u001b[38;5;132;01m{\u001b[39;00mcolname\u001b[38;5;132;01m}\u001b[39;00m\u001b[33m ----\u001b[39m\u001b[33m\"\u001b[39m)\n\u001b[32m---> \u001b[39m\u001b[32m36\u001b[39m     \u001b[43mdf_eda\u001b[49m.select(colname).distinct().show(truncate=\u001b[38;5;28;01mFalse\u001b[39;00m)\n",
            "\u001b[31mNameError\u001b[39m: name 'df_eda' is not defined"
          ]
        }
      ],
      "source": [
        "\n",
        "# Clean Remote Type Name\n",
        "\n",
        "regression_df = regression_df.withColumn(\n",
        "    \"REMOTE_TYPE_NAME\",\n",
        "    when(col(\"REMOTE_TYPE_NAME\") == \"Remote\", \"Remote\")\n",
        "    .when(col(\"REMOTE_TYPE_NAME\") == \"[None]\", \"Undefined\")\n",
        "    .when(col(\"REMOTE_TYPE_NAME\") == \"Not Remote\", \"On Premise\")\n",
        "    .when(col(\"REMOTE_TYPE_NAME\") == \"Hybrid Remote\", \"Hybrid\")\n",
        "    .when(col(\"REMOTE_TYPE_NAME\").isNull(), \"On Premise\")\n",
        "    .otherwise(col(\"REMOTE_TYPE_NAME\"))\n",
        ")\n",
        "\n",
        "# Clean Employment Type Name\n",
        "\n",
        "regression_df = regression_df.withColumn(\n",
        "    \"EMPLOYMENT_TYPE_NAME\",\n",
        "    when(col(\"EMPLOYMENT_TYPE_NAME\") == \"Part-time / full-time\", \"Flexible\")\n",
        "    .when(col(\"EMPLOYMENT_TYPE_NAME\") == \"Part-time (â‰¤ 32 hours)\", \"Parttime\")\n",
        "    .when(col(\"EMPLOYMENT_TYPE_NAME\") == \"Full-time (> 32 hours)\", \"Fulltime\")\n",
        "    .when(col(\"EMPLOYMENT_TYPE_NAME\").isNull(), \"Fulltime\")\n",
        "    .otherwise(col(\"EMPLOYMENT_TYPE_NAME\"))\n",
        ")\n",
        "\n",
        "# Clean Education Levels\n",
        "regression_df = regression_df.withColumn(\n",
        "    \"EDUCATION_LEVELS_NAME\",\n",
        "    trim(regexp_replace(col(\"EDUCATION_LEVELS_NAME\"), r\"[\\[\\]\\n]\", \"\"))\n",
        ")\n",
        "\n",
        "\n",
        "\n",
        "categorical_cols = [\"REMOTE_TYPE_NAME\", \"EMPLOYMENT_TYPE_NAME\", \"EDUCATION_LEVELS_NAME\"]\n",
        "\n",
        "for colname in categorical_cols:\n",
        "    print(f\"\\n---- {colname} ----\")\n",
        "    regression_df.select(colname).distinct().show(truncate=False)\n",
        "\n"
      ]
    }
  ],
  "metadata": {
    "kernelspec": {
      "display_name": ".venv",
      "language": "python",
      "name": "python3"
    },
    "language_info": {
      "codemirror_mode": {
        "name": "ipython",
        "version": 3
      },
      "file_extension": ".py",
      "mimetype": "text/x-python",
      "name": "python",
      "nbconvert_exporter": "python",
      "pygments_lexer": "ipython3",
      "version": "3.12.3"
    }
  },
  "nbformat": 4,
  "nbformat_minor": 4
}
