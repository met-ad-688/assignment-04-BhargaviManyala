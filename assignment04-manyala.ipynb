{
  "cells": [
    {
      "cell_type": "markdown",
      "metadata": {},
      "source": [
        "---\n",
        "title: Assignment 04\n",
        "author:\n",
        "  - name: Bhargavi Manyala\n",
        "    affiliations:\n",
        "      - id: bu\n",
        "        name: Boston University\n",
        "        city: Boston\n",
        "        state: MA\n",
        "number-sections: true\n",
        "date: today\n",
        "date-modified: today\n",
        "date-format: long\n",
        "format:\n",
        "  html:\n",
        "    theme: cerulean\n",
        "    toc: true\n",
        "    toc-depth: 2\n",
        "  pdf: \n",
        "    embed-resources: true\n",
        "    toc-depth: 2\n",
        "    geometry: \n",
        "      - landscape\n",
        "      - margin=0.5in\n",
        "engine: jupyter\n",
        "jupyter: assignment-04-kernel\n",
        "execute:\n",
        "  echo: true\n",
        "  eval: true\n",
        "  output: true\n",
        "  freeze: auto\n",
        "---\n",
        "\n"
      ]
    },
    {
      "cell_type": "markdown",
      "metadata": {},
      "source": [
        " # Load the Dataset"
      ]
    },
    {
      "cell_type": "code",
      "execution_count": 37,
      "metadata": {},
      "outputs": [
        {
          "name": "stderr",
          "output_type": "stream",
          "text": [
            "                                                                                \r"
          ]
        }
      ],
      "source": [
        "from pyspark.sql import SparkSession\n",
        "import pandas as pd\n",
        "import plotly.express as px\n",
        "import plotly.io as pio\n",
        "import numpy as np\n",
        "\n",
        "\n",
        "np.random.seed(42)\n",
        "\n",
        "pio.renderers.default = \"notebook+notebook_connected+vscode\"\n",
        "\n",
        "# Initialize Spark Session\n",
        "spark = SparkSession.builder.appName(\"LightcastData\").getOrCreate()\n",
        "\n",
        "# Load Data\n",
        "df = (\n",
        "    spark.read\n",
        "    .option(\"header\", \"true\")\n",
        "    .option(\"inferSchema\", \"true\")\n",
        "    .option(\"multiLine\", \"true\")\n",
        "    .option(\"escape\", \"\\\"\")  \n",
        "    .csv(\"data/lightcast_job_postings.csv\")\n",
        "\n",
        ")\n",
        "\n",
        "df.createOrReplaceTempView(\"job_postings\")\n",
        "#df.show(5)\n"
      ]
    },
    {
      "cell_type": "markdown",
      "metadata": {},
      "source": [
        "### Missing Value Treatment"
      ]
    },
    {
      "cell_type": "code",
      "execution_count": 38,
      "metadata": {},
      "outputs": [
        {
          "name": "stderr",
          "output_type": "stream",
          "text": [
            "                                                                                \r"
          ]
        }
      ],
      "source": [
        "# Missing Value Treatment\n",
        "from pyspark.sql import Window\n",
        "from pyspark.sql.functions import col, when, isnan, count, expr, median\n",
        "from pyspark.sql import functions as F\n",
        "\n",
        "# Calculate overall median salary\n",
        "overall_median_salarly = df.approxQuantile(\"SALARY\", [0.5], 0.01)[0]\n",
        "\n",
        "median_by_employment_type = df.groupBy(\"EMPLOYMENT_TYPE\").agg(expr(\"percentile_approx(SALARY, 0.5)\").alias(\"median_salary_emp_type\"))\n",
        "median_by_employment_type_name = df.groupBy(\"EMPLOYMENT_TYPE_NAME\").agg(expr(\"percentile_approx(SALARY, 0.5)\").alias(\"median_salary_emp_type_name\"))\n",
        "\n",
        "# Join median values back to the original dataframe\n",
        "df_salary_imputed = df.join(median_by_employment_type, on=\"EMPLOYMENT_TYPE\", how = \"left\").join(median_by_employment_type_name, on=\"EMPLOYMENT_TYPE_NAME\", how = \"left\")\n",
        "\n",
        "\n",
        "# Replace missing SALARY values\n",
        "df_salary_imputed=df_salary_imputed.withColumn(\"SALARY\", when(col(\"SALARY\").isNull(), \n",
        "                                when (col(\"median_salary_emp_type\").isNotNull(), col(\"median_salary_emp_type\"))\n",
        "                                .when(col(\"median_salary_emp_type_name\").isNotNull(), col(\"median_salary_emp_type_name\"))\n",
        "                                .otherwise(overall_median_salarly)\n",
        ").otherwise(col(\"SALARY\"))) \n",
        "\n",
        "\n"
      ]
    },
    {
      "cell_type": "markdown",
      "metadata": {},
      "source": [
        "# Feature Engineering"
      ]
    },
    {
      "cell_type": "markdown",
      "metadata": {},
      "source": [
        "### Take columns needed for anlaysis"
      ]
    },
    {
      "cell_type": "code",
      "execution_count": 39,
      "metadata": {},
      "outputs": [],
      "source": [
        "\n",
        "from pyspark.sql.functions import col, pow\n",
        "from pyspark.ml.feature import StringIndexer, OneHotEncoder, VectorAssembler\n",
        "from pyspark.ml import Pipeline\n",
        "from pyspark.sql.types import BooleanType, StringType, IntegerType\n",
        "from pyspark.sql.functions import regexp_replace, trim\n",
        "\n",
        "# Drop rows with NA values \n",
        "regression_df = df_salary_imputed.dropna(subset=[\n",
        "    \"SALARY\", \"MIN_YEARS_EXPERIENCE\", \"MAX_YEARS_EXPERIENCE\",\n",
        "    \"EDUCATION_LEVELS_NAME\", \"EMPLOYMENT_TYPE_NAME\", \"REMOTE_TYPE_NAME\",\n",
        "    \"DURATION\", \"IS_INTERNSHIP\", \"COMPANY_IS_STAFFING\",\"median_salary_emp_type\", \"median_salary_emp_type_name\"\n",
        "]).select(\n",
        "    \"SALARY\", \"MIN_YEARS_EXPERIENCE\", \"MAX_YEARS_EXPERIENCE\",\n",
        "    \"EDUCATION_LEVELS_NAME\", \"EMPLOYMENT_TYPE_NAME\", \"REMOTE_TYPE_NAME\",\n",
        "    \"DURATION\", \"IS_INTERNSHIP\", \"COMPANY_IS_STAFFING\",\"median_salary_emp_type\", \"median_salary_emp_type_name\"\n",
        "   \n",
        ")\n",
        "\n",
        "# Cast Duration to integer\n",
        "regression_df = regression_df.withColumn(\"DURATION\", col(\"DURATION\").cast(IntegerType()))\n",
        "\n"
      ]
    },
    {
      "cell_type": "markdown",
      "metadata": {},
      "source": [
        "### Clean categorical columns \n"
      ]
    },
    {
      "cell_type": "code",
      "execution_count": 40,
      "metadata": {},
      "outputs": [
        {
          "name": "stderr",
          "output_type": "stream",
          "text": [
            "                                                                                \r"
          ]
        },
        {
          "name": "stdout",
          "output_type": "stream",
          "text": [
            "+--------+--------------------+--------------------+---------------------+--------------------+----------------+--------+-------------+-------------------+----------------------+---------------------------+\n",
            "|SALARY  |MIN_YEARS_EXPERIENCE|MAX_YEARS_EXPERIENCE|EDUCATION_LEVELS_NAME|EMPLOYMENT_TYPE_NAME|REMOTE_TYPE_NAME|DURATION|IS_INTERNSHIP|COMPANY_IS_STAFFING|median_salary_emp_type|median_salary_emp_type_name|\n",
            "+--------+--------------------+--------------------+---------------------+--------------------+----------------+--------+-------------+-------------------+----------------------+---------------------------+\n",
            "|116500.0|2                   |2                   |\"Bachelor's degree\"  |Fulltime            |Undefined       |6       |0            |0                  |116500                |116500                     |\n",
            "|116500.0|7                   |7                   |\"No Education Listed\"|Fulltime            |Undefined       |18      |0            |1                  |116500                |116500                     |\n",
            "|116500.0|1                   |1                   |\"No Education Listed\"|Fulltime            |Undefined       |8       |0            |1                  |116500                |116500                     |\n",
            "|116500.0|1                   |1                   |\"Bachelor's degree\"  |Fulltime            |Undefined       |32      |0            |0                  |116500                |116500                     |\n",
            "|131100.0|2                   |2                   |\"Bachelor's degree\"  |Fulltime            |Undefined       |11      |0            |0                  |116500                |116500                     |\n",
            "+--------+--------------------+--------------------+---------------------+--------------------+----------------+--------+-------------+-------------------+----------------------+---------------------------+\n",
            "only showing top 5 rows\n",
            "\n"
          ]
        }
      ],
      "source": [
        "# Categorical columns\n",
        "categorical_cols = [ \"EDUCATION_LEVELS_NAME\", \"EMPLOYMENT_TYPE_NAME\", \"REMOTE_TYPE_NAME\", \"IS_INTERNSHIP\", \"COMPANY_IS_STAFFING\"]\n",
        "\n",
        "# Cast boolean columns to integer\n",
        "regression_df = regression_df.withColumn(\"IS_INTERNSHIP\", col(\"IS_INTERNSHIP\").cast(IntegerType()))\n",
        "regression_df = regression_df.withColumn(\"COMPANY_IS_STAFFING\", col(\"COMPANY_IS_STAFFING\").cast(IntegerType()))\n",
        "\n",
        "\n",
        "# Clean Remote Type Name\n",
        "regression_df = regression_df.withColumn(\n",
        "    \"REMOTE_TYPE_NAME\",\n",
        "    when(col(\"REMOTE_TYPE_NAME\") == \"Remote\", \"Remote\")\n",
        "    .when(col(\"REMOTE_TYPE_NAME\") == \"[None]\", \"Undefined\")\n",
        "    .when(col(\"REMOTE_TYPE_NAME\") == \"Not Remote\", \"On Premise\")\n",
        "    .when(col(\"REMOTE_TYPE_NAME\") == \"Hybrid Remote\", \"Hybrid\")\n",
        "    .when(col(\"REMOTE_TYPE_NAME\").isNull(), \"On Premise\")\n",
        "    .otherwise(col(\"REMOTE_TYPE_NAME\"))\n",
        ")\n",
        "\n",
        "# Clean Employment Type Name\n",
        "regression_df = regression_df.withColumn(\n",
        "    \"EMPLOYMENT_TYPE_NAME\",\n",
        "    when(col(\"EMPLOYMENT_TYPE_NAME\") == \"Part-time / full-time\", \"Flexible\")\n",
        "    .when(col(\"EMPLOYMENT_TYPE_NAME\") == \"Part-time (â‰¤ 32 hours)\", \"Parttime\")\n",
        "    .when(col(\"EMPLOYMENT_TYPE_NAME\") == \"Full-time (> 32 hours)\", \"Fulltime\")\n",
        "    .when(col(\"EMPLOYMENT_TYPE_NAME\").isNull(), \"Fulltime\")\n",
        "    .otherwise(col(\"EMPLOYMENT_TYPE_NAME\"))\n",
        ")\n",
        "\n",
        "# Clean Education Levels\n",
        "regression_df = regression_df.withColumn(\n",
        "    \"EDUCATION_LEVELS_NAME\",\n",
        "    trim(regexp_replace(col(\"EDUCATION_LEVELS_NAME\"), r\"[\\[\\]\\n]\", \"\"))\n",
        ")\n",
        "\n",
        "\n",
        "regression_df.show(5, truncate=False)\n",
        "\n"
      ]
    },
    {
      "cell_type": "markdown",
      "metadata": {},
      "source": [
        "### Final Features Structure"
      ]
    },
    {
      "cell_type": "code",
      "execution_count": 41,
      "metadata": {},
      "outputs": [
        {
          "name": "stderr",
          "output_type": "stream",
          "text": [
            "                                                                                \r"
          ]
        },
        {
          "name": "stdout",
          "output_type": "stream",
          "text": [
            "+--------+-------------------------------------------------------------+\n",
            "|SALARY  |features                                                     |\n",
            "+--------+-------------------------------------------------------------+\n",
            "|116500.0|(28,[0,1,2,3,21,23,26,27],[2.0,2.0,6.0,1.0,1.0,1.0,1.0,1.0]) |\n",
            "|116500.0|(28,[0,1,2,4,21,23,26],[7.0,7.0,18.0,1.0,1.0,1.0,1.0])       |\n",
            "|116500.0|(28,[0,1,2,4,21,23,26],[1.0,1.0,8.0,1.0,1.0,1.0,1.0])        |\n",
            "|116500.0|(28,[0,1,2,3,21,23,26,27],[1.0,1.0,32.0,1.0,1.0,1.0,1.0,1.0])|\n",
            "|131100.0|(28,[0,1,2,3,21,23,26,27],[2.0,2.0,11.0,1.0,1.0,1.0,1.0,1.0])|\n",
            "+--------+-------------------------------------------------------------+\n",
            "only showing top 5 rows\n",
            "\n"
          ]
        }
      ],
      "source": [
        "# Index and One-Hot Encode\n",
        "indexers = [StringIndexer(inputCol=col, outputCol=f\"{col}_idx\", handleInvalid=\"skip\") for col in categorical_cols]\n",
        "encoders = [OneHotEncoder(inputCol=f\"{col}_idx\", outputCol=f\"{col}_vec\") for col in categorical_cols]\n",
        "\n",
        "#Assemble base features\n",
        "assembler = VectorAssembler(inputCols=[\"MIN_YEARS_EXPERIENCE\", \"MAX_YEARS_EXPERIENCE\", \"DURATION\"] + [f\"{col}_vec\" for col in categorical_cols], outputCol=\"features\")\n",
        "\n",
        "\n",
        "pipeline = Pipeline(stages=indexers + encoders + [assembler])\n",
        "regression_data =  pipeline.fit(regression_df).transform(regression_df)\n",
        "regression_data.select(\"SALARY\",\"features\").show(5, truncate=False)"
      ]
    },
    {
      "cell_type": "markdown",
      "metadata": {},
      "source": [
        "# Train/Test Split"
      ]
    },
    {
      "cell_type": "code",
      "execution_count": 42,
      "metadata": {},
      "outputs": [
        {
          "name": "stderr",
          "output_type": "stream",
          "text": [
            "                                                                                \r"
          ]
        },
        {
          "name": "stdout",
          "output_type": "stream",
          "text": [
            "(5039, 22)\n"
          ]
        },
        {
          "name": "stderr",
          "output_type": "stream",
          "text": [
            "                                                                                \r"
          ]
        },
        {
          "name": "stdout",
          "output_type": "stream",
          "text": [
            "(4070, 22)\n"
          ]
        },
        {
          "name": "stderr",
          "output_type": "stream",
          "text": [
            "[Stage 573:>                                                        (0 + 1) / 1]\r"
          ]
        },
        {
          "name": "stdout",
          "output_type": "stream",
          "text": [
            "(969, 22)\n"
          ]
        },
        {
          "name": "stderr",
          "output_type": "stream",
          "text": [
            "                                                                                \r"
          ]
        }
      ],
      "source": [
        "# Split Data\n",
        "regression_train, regression_test = regression_data.randomSplit([0.8, 0.2], seed=42)\n",
        "\n",
        "print((regression_data.count(), len(regression_data.columns)))\n",
        "print((regression_train.count(), len(regression_train.columns)))\n",
        "print((regression_test.count(), len(regression_test.columns)))"
      ]
    },
    {
      "cell_type": "markdown",
      "metadata": {},
      "source": [
        "# Linear Regression"
      ]
    },
    {
      "cell_type": "code",
      "execution_count": 43,
      "metadata": {},
      "outputs": [
        {
          "name": "stderr",
          "output_type": "stream",
          "text": [
            "                                                                                \r"
          ]
        }
      ],
      "source": [
        "from pyspark.ml.regression import GeneralizedLinearRegression\n",
        "\n",
        "feature_names = assembler.getInputCols()\n",
        "\n",
        "glr = GeneralizedLinearRegression(\n",
        "    featuresCol=\"features\",\n",
        "    labelCol=\"SALARY\",\n",
        "    family=\"gaussian\",\n",
        "    link=\"identity\",  \n",
        "    maxIter=10,\n",
        "    regParam=0.3\n",
        ")\n",
        "\n",
        "glr_model = glr.fit(regression_train)\n",
        "summary = glr_model.summary"
      ]
    },
    {
      "cell_type": "markdown",
      "metadata": {},
      "source": [
        "### Coefficients and Intercept"
      ]
    },
    {
      "cell_type": "code",
      "execution_count": 44,
      "metadata": {},
      "outputs": [
        {
          "name": "stdout",
          "output_type": "stream",
          "text": [
            "Intercept: 86792.4416\n",
            "Coefficients:\n",
            "Feature 1: 1611.6790\n",
            "Feature 2: 1611.6790\n",
            "Feature 3: 28.5445\n",
            "Feature 4: 1247.2923\n",
            "Feature 5: 4395.2943\n",
            "Feature 6: 9613.9357\n",
            "Feature 7: -25786.3097\n",
            "Feature 8: 14121.9136\n",
            "Feature 9: -10802.3368\n",
            "Feature 10: -1697.8711\n",
            "Feature 11: 9148.5650\n",
            "Feature 12: -12465.7919\n",
            "Feature 13: 1354.9291\n",
            "Feature 14: -16520.4012\n",
            "Feature 15: 33093.9741\n",
            "Feature 16: -9792.1284\n",
            "Feature 17: -5104.6945\n",
            "Feature 18: 3404.4202\n",
            "Feature 19: 5003.3704\n",
            "Feature 20: -27508.5111\n",
            "Feature 21: 2140.9095\n",
            "Feature 22: 6459.6839\n",
            "Feature 23: -6724.0609\n",
            "Feature 24: 3701.7084\n",
            "Feature 25: 7847.9024\n",
            "Feature 26: 2132.7803\n",
            "Feature 27: -2242.5622\n",
            "Feature 28: -36.7908\n"
          ]
        }
      ],
      "source": [
        "# Coefficients and Intercept\n",
        "print(\"Intercept: {:.4f}\".format(glr_model.intercept))\n",
        "print(\"Coefficients:\")\n",
        "for i, coef in enumerate(glr_model.coefficients):\n",
        "    print(f\"Feature {i + 1}: {coef:.4f}\")"
      ]
    },
    {
      "cell_type": "markdown",
      "metadata": {},
      "source": [
        "### Regression Summary"
      ]
    },
    {
      "cell_type": "code",
      "execution_count": 45,
      "metadata": {},
      "outputs": [
        {
          "name": "stdout",
          "output_type": "stream",
          "text": [
            "\n",
            "--- Regression Summary ---\n"
          ]
        },
        {
          "name": "stderr",
          "output_type": "stream",
          "text": [
            "[Stage 596:>                                                        (0 + 1) / 1]\r"
          ]
        },
        {
          "name": "stdout",
          "output_type": "stream",
          "text": [
            "Coefficient Standard Errors: ['25277.8270', '25277.8270', '23.0719', '20920.0566', '20936.4449', '20939.8495', '21079.8038', '21082.5312', '21098.7571', '21110.1720', '21270.4367', '21348.0052', '21575.7584', '21649.7921', '21751.0511', '22067.4219', '22083.8028', '22640.4993', '22402.2783', '25724.6987', '25719.5162', '3159.8576', '3735.1985', '3335.4642', '3406.7472', '3789.8637', '5036.8551', '916.5447', '22025.4149']\n",
            "T-Values: ['0.0638', '0.0638', '1.2372', '0.0596', '0.2099', '0.4591', '-1.2233', '0.6698', '-0.5120', '-0.0804', '0.4301', '-0.5839', '0.0628', '-0.7631', '1.5215', '-0.4437', '-0.2312', '0.1504', '0.2233', '-1.0693', '0.0832', '2.0443', '-1.8002', '1.1098', '2.3036', '0.5628', '-0.4452', '-0.0401', '3.9406']\n",
            "P-Values: ['0.9492', '0.9492', '0.2161', '0.9525', '0.8337', '0.6462', '0.2213', '0.5030', '0.6087', '0.9359', '0.6671', '0.5593', '0.9499', '0.4455', '0.1282', '0.6573', '0.8172', '0.8805', '0.8233', '0.2850', '0.9337', '0.0410', '0.0719', '0.2671', '0.0213', '0.5736', '0.6562', '0.9680', '0.0001']\n"
          ]
        },
        {
          "name": "stderr",
          "output_type": "stream",
          "text": [
            "                                                                                \r"
          ]
        }
      ],
      "source": [
        "# Summary stats\n",
        "print(\"\\n--- Regression Summary ---\")\n",
        "print(\"Coefficient Standard Errors:\", [f\"{val:.4f}\" for val in summary.coefficientStandardErrors])\n",
        "print(\"T-Values:\", [f\"{val:.4f}\" for val in summary.tValues])\n",
        "print(\"P-Values:\", [f\"{val:.4f}\" for val in summary.pValues])"
      ]
    },
    {
      "cell_type": "markdown",
      "metadata": {},
      "source": [
        "### Dispersion Summary"
      ]
    },
    {
      "cell_type": "code",
      "execution_count": 46,
      "metadata": {},
      "outputs": [
        {
          "name": "stderr",
          "output_type": "stream",
          "text": [
            "                                                                                \r"
          ]
        },
        {
          "name": "stdout",
          "output_type": "stream",
          "text": [
            "Null Deviance: 2321265663379.3027\n",
            "Residual DF Null: 4069\n",
            "Deviance: 1808610663869.1785\n",
            "Residual DF: 4041\n"
          ]
        },
        {
          "name": "stderr",
          "output_type": "stream",
          "text": [
            "[Stage 614:>                                                        (0 + 1) / 1]\r"
          ]
        },
        {
          "name": "stdout",
          "output_type": "stream",
          "text": [
            "AIC: 92652.7396\n"
          ]
        },
        {
          "name": "stderr",
          "output_type": "stream",
          "text": [
            "                                                                                \r"
          ]
        }
      ],
      "source": [
        "# print(f\"\\nDispersion: {summary.dispersion:.4f}\")\n",
        "print(f\"Null Deviance: {summary.nullDeviance:.4f}\")\n",
        "print(f\"Residual DF Null: {summary.residualDegreeOfFreedomNull}\")\n",
        "print(f\"Deviance: {summary.deviance:.4f}\")\n",
        "print(f\"Residual DF: {summary.residualDegreeOfFreedom}\")\n",
        "print(f\"AIC: {summary.aic:.4f}\")"
      ]
    },
    {
      "cell_type": "markdown",
      "metadata": {},
      "source": [
        "### Tabulate"
      ]
    },
    {
      "cell_type": "code",
      "execution_count": 47,
      "metadata": {},
      "outputs": [
        {
          "data": {
            "text/html": [
              "<table border=\"1\" class=\"dataframe\">\n",
              "  <thead>\n",
              "    <tr style=\"text-align: right;\">\n",
              "      <th></th>\n",
              "      <th>Feature</th>\n",
              "      <th>Estimate</th>\n",
              "      <th>Std Error</th>\n",
              "      <th>t-stat</th>\n",
              "      <th>P-Value</th>\n",
              "    </tr>\n",
              "  </thead>\n",
              "  <tbody>\n",
              "    <tr>\n",
              "      <th>0</th>\n",
              "      <td>Intercept</td>\n",
              "      <td>86792.4416</td>\n",
              "      <td>25277.8270</td>\n",
              "      <td>0.0638</td>\n",
              "      <td>0.9492</td>\n",
              "    </tr>\n",
              "    <tr>\n",
              "      <th>1</th>\n",
              "      <td>MIN_YEARS_EXPERIENCE</td>\n",
              "      <td>1611.6790</td>\n",
              "      <td>25277.8270</td>\n",
              "      <td>0.0638</td>\n",
              "      <td>0.9492</td>\n",
              "    </tr>\n",
              "    <tr>\n",
              "      <th>2</th>\n",
              "      <td>MAX_YEARS_EXPERIENCE</td>\n",
              "      <td>1611.6790</td>\n",
              "      <td>23.0719</td>\n",
              "      <td>1.2372</td>\n",
              "      <td>0.2161</td>\n",
              "    </tr>\n",
              "    <tr>\n",
              "      <th>3</th>\n",
              "      <td>DURATION</td>\n",
              "      <td>28.5445</td>\n",
              "      <td>20920.0566</td>\n",
              "      <td>0.0596</td>\n",
              "      <td>0.9525</td>\n",
              "    </tr>\n",
              "    <tr>\n",
              "      <th>4</th>\n",
              "      <td>EDUCATION_LEVELS_NAME_vec_\"Bachelor's degree\"</td>\n",
              "      <td>1247.2923</td>\n",
              "      <td>20936.4449</td>\n",
              "      <td>0.2099</td>\n",
              "      <td>0.8337</td>\n",
              "    </tr>\n",
              "    <tr>\n",
              "      <th>5</th>\n",
              "      <td>EDUCATION_LEVELS_NAME_vec_\"No Education Listed\"</td>\n",
              "      <td>4395.2943</td>\n",
              "      <td>20939.8495</td>\n",
              "      <td>0.4591</td>\n",
              "      <td>0.6462</td>\n",
              "    </tr>\n",
              "    <tr>\n",
              "      <th>6</th>\n",
              "      <td>EDUCATION_LEVELS_NAME_vec_\"Bachelor's degree\",  \"Master's degree\"</td>\n",
              "      <td>9613.9357</td>\n",
              "      <td>21079.8038</td>\n",
              "      <td>-1.2233</td>\n",
              "      <td>0.2213</td>\n",
              "    </tr>\n",
              "    <tr>\n",
              "      <th>7</th>\n",
              "      <td>EDUCATION_LEVELS_NAME_vec_\"High school or GED\",  \"Bachelor's degree\"</td>\n",
              "      <td>-25786.3097</td>\n",
              "      <td>21082.5312</td>\n",
              "      <td>0.6698</td>\n",
              "      <td>0.5030</td>\n",
              "    </tr>\n",
              "    <tr>\n",
              "      <th>8</th>\n",
              "      <td>EDUCATION_LEVELS_NAME_vec_\"Bachelor's degree\",  \"Master's degree\",  \"Ph.D. or professional degree\"</td>\n",
              "      <td>14121.9136</td>\n",
              "      <td>21098.7571</td>\n",
              "      <td>-0.5120</td>\n",
              "      <td>0.6087</td>\n",
              "    </tr>\n",
              "    <tr>\n",
              "      <th>9</th>\n",
              "      <td>EDUCATION_LEVELS_NAME_vec_\"High school or GED\"</td>\n",
              "      <td>-10802.3368</td>\n",
              "      <td>21110.1720</td>\n",
              "      <td>-0.0804</td>\n",
              "      <td>0.9359</td>\n",
              "    </tr>\n",
              "    <tr>\n",
              "      <th>10</th>\n",
              "      <td>EDUCATION_LEVELS_NAME_vec_\"Associate degree\",  \"Bachelor's degree\"</td>\n",
              "      <td>-1697.8711</td>\n",
              "      <td>21270.4367</td>\n",
              "      <td>0.4301</td>\n",
              "      <td>0.6671</td>\n",
              "    </tr>\n",
              "    <tr>\n",
              "      <th>11</th>\n",
              "      <td>EDUCATION_LEVELS_NAME_vec_\"Master's degree\"</td>\n",
              "      <td>9148.5650</td>\n",
              "      <td>21348.0052</td>\n",
              "      <td>-0.5839</td>\n",
              "      <td>0.5593</td>\n",
              "    </tr>\n",
              "    <tr>\n",
              "      <th>12</th>\n",
              "      <td>EDUCATION_LEVELS_NAME_vec_\"Associate degree\"</td>\n",
              "      <td>-12465.7919</td>\n",
              "      <td>21575.7584</td>\n",
              "      <td>0.0628</td>\n",
              "      <td>0.9499</td>\n",
              "    </tr>\n",
              "    <tr>\n",
              "      <th>13</th>\n",
              "      <td>EDUCATION_LEVELS_NAME_vec_\"Associate degree\",  \"Bachelor's degree\",  \"Master's degree\"</td>\n",
              "      <td>1354.9291</td>\n",
              "      <td>21649.7921</td>\n",
              "      <td>-0.7631</td>\n",
              "      <td>0.4455</td>\n",
              "    </tr>\n",
              "    <tr>\n",
              "      <th>14</th>\n",
              "      <td>EDUCATION_LEVELS_NAME_vec_\"Associate degree\",  \"Bachelor's degree\",  \"Master's degree\",  \"Ph.D. or professional degree\"</td>\n",
              "      <td>-16520.4012</td>\n",
              "      <td>21751.0511</td>\n",
              "      <td>1.5215</td>\n",
              "      <td>0.1282</td>\n",
              "    </tr>\n",
              "    <tr>\n",
              "      <th>15</th>\n",
              "      <td>EDUCATION_LEVELS_NAME_vec_\"Bachelor's degree\",  \"Ph.D. or professional degree\"</td>\n",
              "      <td>33093.9741</td>\n",
              "      <td>22067.4219</td>\n",
              "      <td>-0.4437</td>\n",
              "      <td>0.6573</td>\n",
              "    </tr>\n",
              "    <tr>\n",
              "      <th>16</th>\n",
              "      <td>EDUCATION_LEVELS_NAME_vec_\"High school or GED\",  \"Associate degree\",  \"Bachelor's degree\"</td>\n",
              "      <td>-9792.1284</td>\n",
              "      <td>22083.8028</td>\n",
              "      <td>-0.2312</td>\n",
              "      <td>0.8172</td>\n",
              "    </tr>\n",
              "    <tr>\n",
              "      <th>17</th>\n",
              "      <td>EDUCATION_LEVELS_NAME_vec_\"High school or GED\",  \"Bachelor's degree\",  \"Master's degree\"</td>\n",
              "      <td>-5104.6945</td>\n",
              "      <td>22640.4993</td>\n",
              "      <td>0.1504</td>\n",
              "      <td>0.8805</td>\n",
              "    </tr>\n",
              "    <tr>\n",
              "      <th>18</th>\n",
              "      <td>EDUCATION_LEVELS_NAME_vec_\"Master's degree\",  \"Ph.D. or professional degree\"</td>\n",
              "      <td>3404.4202</td>\n",
              "      <td>22402.2783</td>\n",
              "      <td>0.2233</td>\n",
              "      <td>0.8233</td>\n",
              "    </tr>\n",
              "    <tr>\n",
              "      <th>19</th>\n",
              "      <td>EDUCATION_LEVELS_NAME_vec_\"High school or GED\",  \"Associate degree\"</td>\n",
              "      <td>5003.3704</td>\n",
              "      <td>25724.6987</td>\n",
              "      <td>-1.0693</td>\n",
              "      <td>0.2850</td>\n",
              "    </tr>\n",
              "    <tr>\n",
              "      <th>20</th>\n",
              "      <td>EDUCATION_LEVELS_NAME_vec_\"High school or GED\",  \"Associate degree\",  \"Bachelor's degree\",  \"Master's degree\"</td>\n",
              "      <td>-27508.5111</td>\n",
              "      <td>25719.5162</td>\n",
              "      <td>0.0832</td>\n",
              "      <td>0.9337</td>\n",
              "    </tr>\n",
              "    <tr>\n",
              "      <th>21</th>\n",
              "      <td>EDUCATION_LEVELS_NAME_vec_\"Ph.D. or professional degree\"</td>\n",
              "      <td>2140.9095</td>\n",
              "      <td>3159.8576</td>\n",
              "      <td>2.0443</td>\n",
              "      <td>0.0410</td>\n",
              "    </tr>\n",
              "    <tr>\n",
              "      <th>22</th>\n",
              "      <td>EMPLOYMENT_TYPE_NAME_vec_Fulltime</td>\n",
              "      <td>6459.6839</td>\n",
              "      <td>3735.1985</td>\n",
              "      <td>-1.8002</td>\n",
              "      <td>0.0719</td>\n",
              "    </tr>\n",
              "    <tr>\n",
              "      <th>23</th>\n",
              "      <td>EMPLOYMENT_TYPE_NAME_vec_Parttime</td>\n",
              "      <td>-6724.0609</td>\n",
              "      <td>3335.4642</td>\n",
              "      <td>1.1098</td>\n",
              "      <td>0.2671</td>\n",
              "    </tr>\n",
              "    <tr>\n",
              "      <th>24</th>\n",
              "      <td>REMOTE_TYPE_NAME_vec_Undefined</td>\n",
              "      <td>3701.7084</td>\n",
              "      <td>3406.7472</td>\n",
              "      <td>2.3036</td>\n",
              "      <td>0.0213</td>\n",
              "    </tr>\n",
              "    <tr>\n",
              "      <th>25</th>\n",
              "      <td>REMOTE_TYPE_NAME_vec_Remote</td>\n",
              "      <td>7847.9024</td>\n",
              "      <td>3789.8637</td>\n",
              "      <td>0.5628</td>\n",
              "      <td>0.5736</td>\n",
              "    </tr>\n",
              "    <tr>\n",
              "      <th>26</th>\n",
              "      <td>REMOTE_TYPE_NAME_vec_Hybrid</td>\n",
              "      <td>2132.7803</td>\n",
              "      <td>5036.8551</td>\n",
              "      <td>-0.4452</td>\n",
              "      <td>0.6562</td>\n",
              "    </tr>\n",
              "    <tr>\n",
              "      <th>27</th>\n",
              "      <td>IS_INTERNSHIP_vec_0</td>\n",
              "      <td>-2242.5622</td>\n",
              "      <td>916.5447</td>\n",
              "      <td>-0.0401</td>\n",
              "      <td>0.9680</td>\n",
              "    </tr>\n",
              "    <tr>\n",
              "      <th>28</th>\n",
              "      <td>COMPANY_IS_STAFFING_vec_0</td>\n",
              "      <td>-36.7908</td>\n",
              "      <td>22025.4149</td>\n",
              "      <td>3.9406</td>\n",
              "      <td>0.0001</td>\n",
              "    </tr>\n",
              "  </tbody>\n",
              "</table>"
            ],
            "text/plain": [
              "<IPython.core.display.HTML object>"
            ]
          },
          "execution_count": 47,
          "metadata": {},
          "output_type": "execute_result"
        }
      ],
      "source": [
        "import pandas as pd\n",
        "from tabulate import tabulate\n",
        "from IPython.display import HTML\n",
        "\n",
        "coef_table = pd.DataFrame({\n",
        "    \"Feature\": features,\n",
        "    \"Estimate\": [f\"{v:.4f}\" if v is not None else None for v in coefs],\n",
        "    \"Std Error\": [f\"{v:.4f}\" if v is not None else None for v in se],\n",
        "    \"t-stat\": [f\"{v:.4f}\" if v is not None else None for v in tvals],\n",
        "    \"P-Value\": [f\"{v:.4f}\" if v is not None else None for v in pvals]\n",
        "})\n",
        "\n",
        "\n",
        "coef_table.to_csv(\"output/glr_summary.csv\", index=False)\n",
        "\n",
        "\n",
        "HTML(coef_table.to_html())"
      ]
    },
    {
      "cell_type": "markdown",
      "metadata": {},
      "source": [
        "### Linear Regression Interpretation\n",
        "1. The Generalized Linear Regression (GLR) model achieved an AIC of 92,652.74, demonstrating a moderate fit.\n",
        "2. Experience variables (MIN_YEARS_EXPERIENCE, MAX_YEARS_EXPERIENCE) have positive coefficients (~+1611), indicating salary increases with experience.\n",
        "3. Education level plays a key role — \"Ph.D. or professional degree\" (t = 2.04, p = 0.041) has a significant positive effect on salary.\n",
        "4. Remote work  also show significant positive impacts on salary.\n",
        "5. Most other predictors have p-values above 0.05, indicating they are not statistically significant on their own, but when combined, they still help the model capture overall salary patterns.\n",
        "6. Overall, the model indicates that experience, higher education, remote work flexibility, and company type are the strongest salary drivers, but relatively high AIC suggests factors affecting salary are still not explained."
      ]
    },
    {
      "cell_type": "markdown",
      "metadata": {},
      "source": [
        "# Polynomial Regression"
      ]
    },
    {
      "cell_type": "code",
      "execution_count": 48,
      "metadata": {},
      "outputs": [
        {
          "name": "stderr",
          "output_type": "stream",
          "text": [
            "[Stage 619:>                                                        (0 + 1) / 1]\r"
          ]
        },
        {
          "name": "stdout",
          "output_type": "stream",
          "text": [
            "+--------+------------------------------------------------------------+\n",
            "|SALARY  |features_poly                                               |\n",
            "+--------+------------------------------------------------------------+\n",
            "|117500.0|(29,[0,1,2,3,6,24,27,28],[3.0,9.0,3.0,14.0,1.0,1.0,1.0,1.0])|\n",
            "|100000.0|(29,[0,1,2,3,4,24,27,28],[3.0,9.0,3.0,42.0,1.0,1.0,1.0,1.0])|\n",
            "|100000.0|(29,[0,1,2,3,4,24,27,28],[3.0,9.0,3.0,20.0,1.0,1.0,1.0,1.0])|\n",
            "|100000.0|(29,[0,1,2,3,9,24,27,28],[1.0,1.0,1.0,42.0,1.0,1.0,1.0,1.0])|\n",
            "|162050.0|(29,[0,1,2,3,5,27,28],[5.0,25.0,5.0,33.0,1.0,1.0,1.0])      |\n",
            "+--------+------------------------------------------------------------+\n",
            "only showing top 5 rows\n",
            "\n"
          ]
        },
        {
          "name": "stderr",
          "output_type": "stream",
          "text": [
            "                                                                                \r"
          ]
        }
      ],
      "source": [
        "# Create squared term for Polynomial Regression\n",
        "poly_data = regression_data.withColumn(\n",
        "    \"MAX_YEARS_EXPERIENCE_SQ\",\n",
        "    pow(col(\"MAX_YEARS_EXPERIENCE\"), 2)\n",
        ")\n",
        "\n",
        "# Assemble polynomial features\n",
        "assembler_poly = VectorAssembler(\n",
        "    inputCols=[\n",
        "        \"MIN_YEARS_EXPERIENCE\", \"MAX_YEARS_EXPERIENCE_SQ\", \"MAX_YEARS_EXPERIENCE\",\n",
        "        \"DURATION\"\n",
        "    ] + [f\"{col}_vec\" for col in categorical_cols],\n",
        "    outputCol=\"features_poly\"\n",
        ")\n",
        "\n",
        "poly_data = assembler_poly.transform(poly_data)\n",
        "\n",
        "poly_data.select(\"SALARY\", \"features_poly\").show(5, truncate=False)"
      ]
    },
    {
      "cell_type": "markdown",
      "metadata": {},
      "source": [
        "### Split Data"
      ]
    },
    {
      "cell_type": "code",
      "execution_count": 49,
      "metadata": {},
      "outputs": [
        {
          "name": "stderr",
          "output_type": "stream",
          "text": [
            "                                                                                \r"
          ]
        },
        {
          "name": "stdout",
          "output_type": "stream",
          "text": [
            "(5039, 24)\n"
          ]
        },
        {
          "name": "stderr",
          "output_type": "stream",
          "text": [
            "                                                                                \r"
          ]
        },
        {
          "name": "stdout",
          "output_type": "stream",
          "text": [
            "(4070, 24)\n"
          ]
        },
        {
          "name": "stderr",
          "output_type": "stream",
          "text": [
            "[Stage 648:>                                                        (0 + 1) / 1]\r"
          ]
        },
        {
          "name": "stdout",
          "output_type": "stream",
          "text": [
            "(969, 24)\n"
          ]
        },
        {
          "name": "stderr",
          "output_type": "stream",
          "text": [
            "                                                                                \r"
          ]
        }
      ],
      "source": [
        "\n",
        "polyreg_train, polyreg_test = poly_data.randomSplit([0.8, 0.2], seed=42)\n",
        "\n",
        "print((poly_data.count(), len(poly_data.columns)))\n",
        "print((polyreg_train.count(), len(polyreg_train.columns)))\n",
        "print((polyreg_test.count(), len(polyreg_test.columns)))"
      ]
    },
    {
      "cell_type": "code",
      "execution_count": 50,
      "metadata": {},
      "outputs": [
        {
          "name": "stderr",
          "output_type": "stream",
          "text": [
            "                                                                                \r"
          ]
        }
      ],
      "source": [
        "from pyspark.ml.regression import GeneralizedLinearRegression\n",
        "\n",
        "feature_names = assembler.getInputCols()\n",
        "\n",
        "poly_glr_max_years = GeneralizedLinearRegression(\n",
        "    featuresCol=\"features_poly\",\n",
        "    labelCol=\"SALARY\",\n",
        "    family=\"gaussian\",   \n",
        "    link=\"identity\",     \n",
        "    maxIter=10,         \n",
        "    regParam=0.3         \n",
        ")\n",
        "\n",
        "poly_glr_max_years_model = poly_glr_max_years.fit(poly_data)\n",
        "poly_summary = poly_glr_max_years_model.summary"
      ]
    },
    {
      "cell_type": "markdown",
      "metadata": {},
      "source": [
        "### Coefficients and Intercept"
      ]
    },
    {
      "cell_type": "code",
      "execution_count": 51,
      "metadata": {},
      "outputs": [
        {
          "name": "stdout",
          "output_type": "stream",
          "text": [
            "Intercept: 87729.4985\n",
            "Coefficients:\n",
            "Feature 1: 3073.9396\n",
            "Feature 2: -292.0763\n",
            "Feature 3: 3073.9396\n",
            "Feature 4: 29.5828\n",
            "Feature 5: -2253.9775\n",
            "Feature 6: 805.2130\n",
            "Feature 7: 5881.4501\n",
            "Feature 8: -30439.8972\n",
            "Feature 9: 8412.8920\n",
            "Feature 10: -13680.3546\n",
            "Feature 11: -4660.4367\n",
            "Feature 12: 7967.9560\n",
            "Feature 13: -14214.1229\n",
            "Feature 14: -2857.2642\n",
            "Feature 15: -15252.4114\n",
            "Feature 16: 38851.8773\n",
            "Feature 17: -12908.6915\n",
            "Feature 18: -9159.5725\n",
            "Feature 19: 13889.7107\n",
            "Feature 20: 4123.7347\n",
            "Feature 21: -40022.9996\n",
            "Feature 22: 27224.9060\n",
            "Feature 23: 5759.7671\n",
            "Feature 24: -6588.6707\n",
            "Feature 25: 3972.6485\n",
            "Feature 26: 8353.6157\n",
            "Feature 27: 2403.5211\n",
            "Feature 28: -4220.3464\n",
            "Feature 29: 214.4410\n"
          ]
        }
      ],
      "source": [
        "print(\"Intercept: {:.4f}\".format(poly_glr_max_years_model.intercept))\n",
        "print(\"Coefficients:\")\n",
        "for i, coef in enumerate(poly_glr_max_years_model.coefficients):\n",
        "    print(f\"Feature {i + 1}: {coef:.4f}\")"
      ]
    },
    {
      "cell_type": "markdown",
      "metadata": {},
      "source": [
        "### Ploynomial Summary"
      ]
    },
    {
      "cell_type": "code",
      "execution_count": 52,
      "metadata": {},
      "outputs": [
        {
          "name": "stdout",
          "output_type": "stream",
          "text": [
            "\n",
            "--- Poly Summary ---\n"
          ]
        },
        {
          "name": "stderr",
          "output_type": "stream",
          "text": [
            "[Stage 671:>                                                        (0 + 1) / 1]\r"
          ]
        },
        {
          "name": "stdout",
          "output_type": "stream",
          "text": [
            "Coefficient Standard Errors: ['22747.6805', '36.5365', '22747.6805', '20.5955', '20846.6950', '20859.1237', '20863.3147', '20971.9940', '20987.9155', '20990.0817', '21019.8840', '21100.5976', '21203.5634', '21380.9216', '21419.1586', '21567.5225', '21793.5925', '21905.9591', '22009.1299', '22150.2630', '24166.2009', '24163.3570', '3057.6640', '3566.5832', '2907.7548', '2969.5007', '3355.2443', '4582.4088', '821.4479', '21780.4771']\n",
            "T-Values: ['0.1351', '-7.9941', '0.1351', '1.4364', '-0.1081', '0.0386', '0.2819', '-1.4515', '0.4008', '-0.6518', '-0.2217', '0.3776', '-0.6704', '-0.1336', '-0.7121', '1.8014', '-0.5923', '-0.4181', '0.6311', '0.1862', '-1.6562', '1.1267', '1.8837', '-1.8473', '1.3662', '2.8131', '0.7163', '-0.9210', '0.2611', '4.0279']\n",
            "P-Values: ['0.8925', '0.0000', '0.8925', '0.1510', '0.9139', '0.9692', '0.7780', '0.1467', '0.6886', '0.5146', '0.8245', '0.7057', '0.5027', '0.8937', '0.4764', '0.0717', '0.5537', '0.6759', '0.5280', '0.8523', '0.0978', '0.2599', '0.0597', '0.0648', '0.1719', '0.0049', '0.4738', '0.3571', '0.7941', '0.0001']\n"
          ]
        },
        {
          "name": "stderr",
          "output_type": "stream",
          "text": [
            "                                                                                \r"
          ]
        }
      ],
      "source": [
        "\n",
        "print(\"\\n--- Poly Summary ---\")\n",
        "print(\"Coefficient Standard Errors:\", [f\"{val:.4f}\" for val in poly_summary.coefficientStandardErrors])\n",
        "print(\"T-Values:\", [f\"{val:.4f}\" for val in poly_summary.tValues])\n",
        "print(\"P-Values:\", [f\"{val:.4f}\" for val in poly_summary.pValues])"
      ]
    },
    {
      "cell_type": "markdown",
      "metadata": {},
      "source": [
        "### Dispersion Summary"
      ]
    },
    {
      "cell_type": "code",
      "execution_count": 53,
      "metadata": {},
      "outputs": [
        {
          "name": "stderr",
          "output_type": "stream",
          "text": [
            "                                                                                \r"
          ]
        },
        {
          "name": "stdout",
          "output_type": "stream",
          "text": [
            "Null Deviance: 2909123659016.3213\n",
            "Residual DF Null: 5038\n",
            "Deviance: 2244317022136.5859\n",
            "Residual DF: 5009\n"
          ]
        },
        {
          "name": "stderr",
          "output_type": "stream",
          "text": [
            "[Stage 687:>                                                        (0 + 1) / 1]\r"
          ]
        },
        {
          "name": "stdout",
          "output_type": "stream",
          "text": [
            "AIC: 114711.0237\n"
          ]
        },
        {
          "name": "stderr",
          "output_type": "stream",
          "text": [
            "                                                                                \r"
          ]
        }
      ],
      "source": [
        "# print(f\"\\nDispersion: {summary.dispersion:.4f}\")\n",
        "print(f\"Null Deviance: {poly_summary.nullDeviance:.4f}\")\n",
        "print(f\"Residual DF Null: {poly_summary.residualDegreeOfFreedomNull}\")\n",
        "print(f\"Deviance: {poly_summary.deviance:.4f}\")\n",
        "print(f\"Residual DF: {poly_summary.residualDegreeOfFreedom}\")\n",
        "print(f\"AIC: {poly_summary.aic:.4f}\")"
      ]
    },
    {
      "cell_type": "markdown",
      "metadata": {},
      "source": [
        "### Tabulate"
      ]
    },
    {
      "cell_type": "code",
      "execution_count": 54,
      "metadata": {},
      "outputs": [
        {
          "data": {
            "text/html": [
              "<table border=\"1\" class=\"dataframe\">\n",
              "  <thead>\n",
              "    <tr style=\"text-align: right;\">\n",
              "      <th></th>\n",
              "      <th>Feature</th>\n",
              "      <th>Estimate</th>\n",
              "      <th>Std Error</th>\n",
              "      <th>t-stat</th>\n",
              "      <th>P-Value</th>\n",
              "    </tr>\n",
              "  </thead>\n",
              "  <tbody>\n",
              "    <tr>\n",
              "      <th>0</th>\n",
              "      <td>Intercept</td>\n",
              "      <td>87729.4985</td>\n",
              "      <td>22747.6805</td>\n",
              "      <td>0.1351</td>\n",
              "      <td>0.8925</td>\n",
              "    </tr>\n",
              "    <tr>\n",
              "      <th>1</th>\n",
              "      <td>MIN_YEARS_EXPERIENCE</td>\n",
              "      <td>3073.9396</td>\n",
              "      <td>36.5365</td>\n",
              "      <td>-7.9941</td>\n",
              "      <td>0.0000</td>\n",
              "    </tr>\n",
              "    <tr>\n",
              "      <th>2</th>\n",
              "      <td>MAX_YEARS_EXPERIENCE_SQ</td>\n",
              "      <td>-292.0763</td>\n",
              "      <td>22747.6805</td>\n",
              "      <td>0.1351</td>\n",
              "      <td>0.8925</td>\n",
              "    </tr>\n",
              "    <tr>\n",
              "      <th>3</th>\n",
              "      <td>MAX_YEARS_EXPERIENCE</td>\n",
              "      <td>3073.9396</td>\n",
              "      <td>20.5955</td>\n",
              "      <td>1.4364</td>\n",
              "      <td>0.1510</td>\n",
              "    </tr>\n",
              "    <tr>\n",
              "      <th>4</th>\n",
              "      <td>DURATION</td>\n",
              "      <td>29.5828</td>\n",
              "      <td>20846.6950</td>\n",
              "      <td>-0.1081</td>\n",
              "      <td>0.9139</td>\n",
              "    </tr>\n",
              "    <tr>\n",
              "      <th>5</th>\n",
              "      <td>EDUCATION_LEVELS_NAME_vec_\"Bachelor's degree\"</td>\n",
              "      <td>-2253.9775</td>\n",
              "      <td>20859.1237</td>\n",
              "      <td>0.0386</td>\n",
              "      <td>0.9692</td>\n",
              "    </tr>\n",
              "    <tr>\n",
              "      <th>6</th>\n",
              "      <td>EDUCATION_LEVELS_NAME_vec_\"No Education Listed\"</td>\n",
              "      <td>805.2130</td>\n",
              "      <td>20863.3147</td>\n",
              "      <td>0.2819</td>\n",
              "      <td>0.7780</td>\n",
              "    </tr>\n",
              "    <tr>\n",
              "      <th>7</th>\n",
              "      <td>EDUCATION_LEVELS_NAME_vec_\"Bachelor's degree\",  \"Master's degree\"</td>\n",
              "      <td>5881.4501</td>\n",
              "      <td>20971.9940</td>\n",
              "      <td>-1.4515</td>\n",
              "      <td>0.1467</td>\n",
              "    </tr>\n",
              "    <tr>\n",
              "      <th>8</th>\n",
              "      <td>EDUCATION_LEVELS_NAME_vec_\"High school or GED\",  \"Bachelor's degree\"</td>\n",
              "      <td>-30439.8972</td>\n",
              "      <td>20987.9155</td>\n",
              "      <td>0.4008</td>\n",
              "      <td>0.6886</td>\n",
              "    </tr>\n",
              "    <tr>\n",
              "      <th>9</th>\n",
              "      <td>EDUCATION_LEVELS_NAME_vec_\"Bachelor's degree\",  \"Master's degree\",  \"Ph.D. or professional degree\"</td>\n",
              "      <td>8412.8920</td>\n",
              "      <td>20990.0817</td>\n",
              "      <td>-0.6518</td>\n",
              "      <td>0.5146</td>\n",
              "    </tr>\n",
              "    <tr>\n",
              "      <th>10</th>\n",
              "      <td>EDUCATION_LEVELS_NAME_vec_\"High school or GED\"</td>\n",
              "      <td>-13680.3546</td>\n",
              "      <td>21019.8840</td>\n",
              "      <td>-0.2217</td>\n",
              "      <td>0.8245</td>\n",
              "    </tr>\n",
              "    <tr>\n",
              "      <th>11</th>\n",
              "      <td>EDUCATION_LEVELS_NAME_vec_\"Associate degree\",  \"Bachelor's degree\"</td>\n",
              "      <td>-4660.4367</td>\n",
              "      <td>21100.5976</td>\n",
              "      <td>0.3776</td>\n",
              "      <td>0.7057</td>\n",
              "    </tr>\n",
              "    <tr>\n",
              "      <th>12</th>\n",
              "      <td>EDUCATION_LEVELS_NAME_vec_\"Master's degree\"</td>\n",
              "      <td>7967.9560</td>\n",
              "      <td>21203.5634</td>\n",
              "      <td>-0.6704</td>\n",
              "      <td>0.5027</td>\n",
              "    </tr>\n",
              "    <tr>\n",
              "      <th>13</th>\n",
              "      <td>EDUCATION_LEVELS_NAME_vec_\"Associate degree\"</td>\n",
              "      <td>-14214.1229</td>\n",
              "      <td>21380.9216</td>\n",
              "      <td>-0.1336</td>\n",
              "      <td>0.8937</td>\n",
              "    </tr>\n",
              "    <tr>\n",
              "      <th>14</th>\n",
              "      <td>EDUCATION_LEVELS_NAME_vec_\"Associate degree\",  \"Bachelor's degree\",  \"Master's degree\"</td>\n",
              "      <td>-2857.2642</td>\n",
              "      <td>21419.1586</td>\n",
              "      <td>-0.7121</td>\n",
              "      <td>0.4764</td>\n",
              "    </tr>\n",
              "    <tr>\n",
              "      <th>15</th>\n",
              "      <td>EDUCATION_LEVELS_NAME_vec_\"Associate degree\",  \"Bachelor's degree\",  \"Master's degree\",  \"Ph.D. or professional degree\"</td>\n",
              "      <td>-15252.4114</td>\n",
              "      <td>21567.5225</td>\n",
              "      <td>1.8014</td>\n",
              "      <td>0.0717</td>\n",
              "    </tr>\n",
              "    <tr>\n",
              "      <th>16</th>\n",
              "      <td>EDUCATION_LEVELS_NAME_vec_\"Bachelor's degree\",  \"Ph.D. or professional degree\"</td>\n",
              "      <td>38851.8773</td>\n",
              "      <td>21793.5925</td>\n",
              "      <td>-0.5923</td>\n",
              "      <td>0.5537</td>\n",
              "    </tr>\n",
              "    <tr>\n",
              "      <th>17</th>\n",
              "      <td>EDUCATION_LEVELS_NAME_vec_\"High school or GED\",  \"Associate degree\",  \"Bachelor's degree\"</td>\n",
              "      <td>-12908.6915</td>\n",
              "      <td>21905.9591</td>\n",
              "      <td>-0.4181</td>\n",
              "      <td>0.6759</td>\n",
              "    </tr>\n",
              "    <tr>\n",
              "      <th>18</th>\n",
              "      <td>EDUCATION_LEVELS_NAME_vec_\"High school or GED\",  \"Bachelor's degree\",  \"Master's degree\"</td>\n",
              "      <td>-9159.5725</td>\n",
              "      <td>22009.1299</td>\n",
              "      <td>0.6311</td>\n",
              "      <td>0.5280</td>\n",
              "    </tr>\n",
              "    <tr>\n",
              "      <th>19</th>\n",
              "      <td>EDUCATION_LEVELS_NAME_vec_\"Master's degree\",  \"Ph.D. or professional degree\"</td>\n",
              "      <td>13889.7107</td>\n",
              "      <td>22150.2630</td>\n",
              "      <td>0.1862</td>\n",
              "      <td>0.8523</td>\n",
              "    </tr>\n",
              "    <tr>\n",
              "      <th>20</th>\n",
              "      <td>EDUCATION_LEVELS_NAME_vec_\"High school or GED\",  \"Associate degree\"</td>\n",
              "      <td>4123.7347</td>\n",
              "      <td>24166.2009</td>\n",
              "      <td>-1.6562</td>\n",
              "      <td>0.0978</td>\n",
              "    </tr>\n",
              "    <tr>\n",
              "      <th>21</th>\n",
              "      <td>EDUCATION_LEVELS_NAME_vec_\"High school or GED\",  \"Associate degree\",  \"Bachelor's degree\",  \"Master's degree\"</td>\n",
              "      <td>-40022.9996</td>\n",
              "      <td>24163.3570</td>\n",
              "      <td>1.1267</td>\n",
              "      <td>0.2599</td>\n",
              "    </tr>\n",
              "    <tr>\n",
              "      <th>22</th>\n",
              "      <td>EDUCATION_LEVELS_NAME_vec_\"Ph.D. or professional degree\"</td>\n",
              "      <td>27224.9060</td>\n",
              "      <td>3057.6640</td>\n",
              "      <td>1.8837</td>\n",
              "      <td>0.0597</td>\n",
              "    </tr>\n",
              "    <tr>\n",
              "      <th>23</th>\n",
              "      <td>EMPLOYMENT_TYPE_NAME_vec_Fulltime</td>\n",
              "      <td>5759.7671</td>\n",
              "      <td>3566.5832</td>\n",
              "      <td>-1.8473</td>\n",
              "      <td>0.0648</td>\n",
              "    </tr>\n",
              "    <tr>\n",
              "      <th>24</th>\n",
              "      <td>EMPLOYMENT_TYPE_NAME_vec_Parttime</td>\n",
              "      <td>-6588.6707</td>\n",
              "      <td>2907.7548</td>\n",
              "      <td>1.3662</td>\n",
              "      <td>0.1719</td>\n",
              "    </tr>\n",
              "    <tr>\n",
              "      <th>25</th>\n",
              "      <td>REMOTE_TYPE_NAME_vec_Undefined</td>\n",
              "      <td>3972.6485</td>\n",
              "      <td>2969.5007</td>\n",
              "      <td>2.8131</td>\n",
              "      <td>0.0049</td>\n",
              "    </tr>\n",
              "    <tr>\n",
              "      <th>26</th>\n",
              "      <td>REMOTE_TYPE_NAME_vec_Remote</td>\n",
              "      <td>8353.6157</td>\n",
              "      <td>3355.2443</td>\n",
              "      <td>0.7163</td>\n",
              "      <td>0.4738</td>\n",
              "    </tr>\n",
              "    <tr>\n",
              "      <th>27</th>\n",
              "      <td>REMOTE_TYPE_NAME_vec_Hybrid</td>\n",
              "      <td>2403.5211</td>\n",
              "      <td>4582.4088</td>\n",
              "      <td>-0.9210</td>\n",
              "      <td>0.3571</td>\n",
              "    </tr>\n",
              "    <tr>\n",
              "      <th>28</th>\n",
              "      <td>IS_INTERNSHIP_vec_0</td>\n",
              "      <td>-4220.3464</td>\n",
              "      <td>821.4479</td>\n",
              "      <td>0.2611</td>\n",
              "      <td>0.7941</td>\n",
              "    </tr>\n",
              "    <tr>\n",
              "      <th>29</th>\n",
              "      <td>COMPANY_IS_STAFFING_vec_0</td>\n",
              "      <td>214.4410</td>\n",
              "      <td>21780.4771</td>\n",
              "      <td>4.0279</td>\n",
              "      <td>0.0001</td>\n",
              "    </tr>\n",
              "  </tbody>\n",
              "</table>"
            ],
            "text/plain": [
              "<IPython.core.display.HTML object>"
            ]
          },
          "execution_count": 54,
          "metadata": {},
          "output_type": "execute_result"
        }
      ],
      "source": [
        "import pandas as pd\n",
        "from tabulate import tabulate\n",
        "from IPython.display import HTML\n",
        "\n",
        "poly_coef_table = pd.DataFrame({\n",
        "    \"Feature\": poly_features,\n",
        "    \"Estimate\": [f\"{v:.4f}\" if v is not None else None for v in poly_coefs],\n",
        "    \"Std Error\": [f\"{v:.4f}\" if v is not None else None for v in poly_se],\n",
        "    \"t-stat\": [f\"{v:.4f}\" if v is not None else None for v in poly_tvals],\n",
        "    \"P-Value\": [f\"{v:.4f}\" if v is not None else None for v in poly_pvals]\n",
        "})\n",
        "\n",
        "\n",
        "poly_coef_table.to_csv(\"output/poly_summary.csv\", index=False)\n",
        "\n",
        "\n",
        "HTML(poly_coef_table.to_html())"
      ]
    },
    {
      "cell_type": "markdown",
      "metadata": {},
      "source": [
        "### Polynomial Regression Interpretation\n",
        "1. The Polynomial model (AIC = 114,711.02) does not perform well statistically, but it helps to show how salary growth changes with experience, for example, salaries increase quickly at first and then level off at higher experience levels.\n",
        "2. Experience is the strongest factor (t = −7.99, p < 0.001), showing that salaries increase with experience but slow down at higher levels.\n",
        "3. Company type (t = 4.03, p < 0.001) and remote work flexibility (t = 2.81, p = 0.0049) also have a significant positive effect on salary, while higher education (t = 1.88, p ≈ 0.06) adds a moderate impact.\n",
        "4. Most other predictors are not individually significant but together help improve model performance.\n",
        "5. Overall, experience, company type, remote work, and education are the main factors influencing salary."
      ]
    },
    {
      "cell_type": "markdown",
      "metadata": {},
      "source": [
        "# Random Forest Regressor"
      ]
    },
    {
      "cell_type": "code",
      "execution_count": 55,
      "metadata": {},
      "outputs": [
        {
          "name": "stderr",
          "output_type": "stream",
          "text": [
            "25/10/08 03:33:42 WARN DAGScheduler: Broadcasting large task binary with size 1645.3 KiB\n",
            "25/10/08 03:33:43 WARN DAGScheduler: Broadcasting large task binary with size 2.6 MiB\n",
            "[Stage 744:>                                                        (0 + 1) / 1]\r"
          ]
        },
        {
          "name": "stdout",
          "output_type": "stream",
          "text": [
            "Root Mean Squared Error (RMSE): 21266.70\n",
            "R² (Coefficient of Determination): 0.25\n",
            "Mean Absolute Error (MAE): 14848.19\n"
          ]
        },
        {
          "name": "stderr",
          "output_type": "stream",
          "text": [
            "                                                                                \r"
          ]
        }
      ],
      "source": [
        "from pyspark.ml.regression import RandomForestRegressor\n",
        "from pyspark.ml.evaluation import RegressionEvaluator\n",
        "\n",
        "rf = RandomForestRegressor(\n",
        "    featuresCol=\"features\",\n",
        "    labelCol=\"SALARY\",\n",
        "    numTrees=300,\n",
        "    maxDepth=6,\n",
        "    subsamplingRate=0.8,\n",
        "    featureSubsetStrategy=\"auto\",\n",
        "    seed=42\n",
        ")\n",
        "\n",
        "rf_model = rf.fit(regression_train)\n",
        "rf_pred = rf_model.transform(regression_test)\n",
        "\n",
        "evaluator_rmse = RegressionEvaluator(labelCol=\"SALARY\", predictionCol=\"prediction\", metricName=\"rmse\")\n",
        "evaluator_r2 = RegressionEvaluator(labelCol=\"SALARY\", predictionCol=\"prediction\", metricName=\"r2\")\n",
        "evaluator_mae = RegressionEvaluator(labelCol=\"SALARY\", predictionCol=\"prediction\", metricName=\"mae\")\n",
        "\n",
        "rmse = evaluator_rmse.evaluate(rf_pred)\n",
        "r2 = evaluator_r2.evaluate(rf_pred)\n",
        "mae = evaluator_mae.evaluate(rf_pred)\n",
        "\n",
        "print(f\"Root Mean Squared Error (RMSE): {rmse:.2f}\")\n",
        "print(f\"R² (Coefficient of Determination): {r2:.2f}\")\n",
        "print(f\"Mean Absolute Error (MAE): {mae:.2f}\")"
      ]
    },
    {
      "cell_type": "markdown",
      "metadata": {},
      "source": [
        "### Feature Importance Plot"
      ]
    },
    {
      "cell_type": "code",
      "execution_count": 56,
      "metadata": {},
      "outputs": [
        {
          "name": "stderr",
          "output_type": "stream",
          "text": [
            "/tmp/ipykernel_1651/2256788607.py:25: FutureWarning:\n",
            "\n",
            "\n",
            "\n",
            "Passing `palette` without assigning `hue` is deprecated and will be removed in v0.14.0. Assign the `y` variable to `hue` and set `legend=False` for the same effect.\n",
            "\n",
            "\n"
          ]
        },
        {
          "data": {
            "image/png": "[encoded data removed]",
            "text/plain": [
              "<Figure size 800x600 with 1 Axes>"
            ]
          },
          "metadata": {},
          "output_type": "display_data"
        },
        {
          "data": {
            "text/html": [
              "<div>\n",
              "<style scoped>\n",
              "    .dataframe tbody tr th:only-of-type {\n",
              "        vertical-align: middle;\n",
              "    }\n",
              "\n",
              "    .dataframe tbody tr th {\n",
              "        vertical-align: top;\n",
              "    }\n",
              "\n",
              "    .dataframe thead th {\n",
              "        text-align: right;\n",
              "    }\n",
              "</style>\n",
              "<table border=\"1\" class=\"dataframe\">\n",
              "  <thead>\n",
              "    <tr style=\"text-align: right;\">\n",
              "      <th></th>\n",
              "      <th>Feature</th>\n",
              "      <th>Importance</th>\n",
              "    </tr>\n",
              "  </thead>\n",
              "  <tbody>\n",
              "    <tr>\n",
              "      <th>0</th>\n",
              "      <td>MIN_YEARS_EXPERIENCE</td>\n",
              "      <td>0.351221</td>\n",
              "    </tr>\n",
              "    <tr>\n",
              "      <th>1</th>\n",
              "      <td>MAX_YEARS_EXPERIENCE</td>\n",
              "      <td>0.241951</td>\n",
              "    </tr>\n",
              "    <tr>\n",
              "      <th>2</th>\n",
              "      <td>DURATION</td>\n",
              "      <td>0.076753</td>\n",
              "    </tr>\n",
              "    <tr>\n",
              "      <th>6</th>\n",
              "      <td>IS_INTERNSHIP_vec</td>\n",
              "      <td>0.073518</td>\n",
              "    </tr>\n",
              "    <tr>\n",
              "      <th>5</th>\n",
              "      <td>REMOTE_TYPE_NAME_vec</td>\n",
              "      <td>0.039052</td>\n",
              "    </tr>\n",
              "    <tr>\n",
              "      <th>3</th>\n",
              "      <td>EDUCATION_LEVELS_NAME_vec</td>\n",
              "      <td>0.028002</td>\n",
              "    </tr>\n",
              "    <tr>\n",
              "      <th>4</th>\n",
              "      <td>EMPLOYMENT_TYPE_NAME_vec</td>\n",
              "      <td>0.014275</td>\n",
              "    </tr>\n",
              "    <tr>\n",
              "      <th>7</th>\n",
              "      <td>COMPANY_IS_STAFFING_vec</td>\n",
              "      <td>0.008182</td>\n",
              "    </tr>\n",
              "  </tbody>\n",
              "</table>\n",
              "</div>"
            ],
            "text/plain": [
              "                     Feature  Importance\n",
              "0       MIN_YEARS_EXPERIENCE    0.351221\n",
              "1       MAX_YEARS_EXPERIENCE    0.241951\n",
              "2                   DURATION    0.076753\n",
              "6          IS_INTERNSHIP_vec    0.073518\n",
              "5       REMOTE_TYPE_NAME_vec    0.039052\n",
              "3  EDUCATION_LEVELS_NAME_vec    0.028002\n",
              "4   EMPLOYMENT_TYPE_NAME_vec    0.014275\n",
              "7    COMPANY_IS_STAFFING_vec    0.008182"
            ]
          },
          "execution_count": 56,
          "metadata": {},
          "output_type": "execute_result"
        }
      ],
      "source": [
        "import pandas as pd\n",
        "import matplotlib.pyplot as plt\n",
        "import seaborn as sns\n",
        "\n",
        "\n",
        "importances = rf_model.featureImportances.toArray()\n",
        "\n",
        "feature_names = assembler.getInputCols()\n",
        "\n",
        "# Match lengths safely \n",
        "min_len = min(len(importances), len(feature_names))\n",
        "feature_names = feature_names[:min_len]\n",
        "importances = importances[:min_len]\n",
        "\n",
        "\n",
        "fi_df = pd.DataFrame({\n",
        "    \"Feature\": feature_names,\n",
        "    \"Importance\": importances\n",
        "}).sort_values(by=\"Importance\", ascending=False)\n",
        "\n",
        "top10_fi = fi_df.head(10)\n",
        "\n",
        "\n",
        "plt.figure(figsize=(8, 6))\n",
        "sns.barplot(x=\"Importance\", y=\"Feature\", data=top10_fi, palette=\"viridis\")\n",
        "plt.title(\"Top 10 Important Features from Random Forest Regressor\")\n",
        "plt.tight_layout()\n",
        "\n",
        "plt.savefig(\"output/rf_feature_importance.png\", dpi=300)\n",
        "plt.show()\n",
        "top10_fi"
      ]
    },
    {
      "cell_type": "markdown",
      "metadata": {},
      "source": [
        "### Random Forest Interpretation\n",
        "1. The Random Forest model achieved an R² of 0.25, explaining about 25% of the salary variation, which indicates moderate predictive accuracy.\n",
        "2. With an RMSE of 21,266.70 and MAE of 14,848.19, the model demonstrates reasonable performance.\n",
        "3. Experience is the most significant factor affecting salary, followed by job duration, internship status, and remote work type.\n",
        "4. Overall, the Random Forest model effectively captures non-linear relationships and provides a balanced prediction of salaries."
      ]
    },
    {
      "cell_type": "markdown",
      "metadata": {},
      "source": [
        "# Compare 3 Models – GLR, Polynomial, RF"
      ]
    },
    {
      "cell_type": "code",
      "execution_count": 57,
      "metadata": {},
      "outputs": [
        {
          "name": "stderr",
          "output_type": "stream",
          "text": [
            "                                                                                \r"
          ]
        },
        {
          "name": "stdout",
          "output_type": "stream",
          "text": [
            "\n",
            "Model Performance Comparison:\n",
            "                     Model       RMSE        MAE     R²         AIC        BIC\n",
            "0  GLR (Linear Regression)  22030.884  15515.171  0.194   92652.740  19435.399\n",
            "1    Polynomial Regression  21636.911  15137.690  0.222  114711.024  19407.305\n",
            "2  Random Forest Regressor  21266.702  14848.191  0.249         NaN  19366.982\n"
          ]
        },
        {
          "data": {
            "image/png": "[encoded data removed]",
            "text/plain": [
              "<Figure size 1000x900 with 3 Axes>"
            ]
          },
          "metadata": {},
          "output_type": "display_data"
        }
      ],
      "source": [
        "import math\n",
        "import pandas as pd\n",
        "import numpy as np\n",
        "import matplotlib.pyplot as plt\n",
        "import seaborn as sns\n",
        "from pyspark.ml.evaluation import RegressionEvaluator\n",
        "\n",
        "pred_glr = glr_model.transform(regression_test).select(\"SALARY\", \"prediction\").toPandas()\n",
        "pred_poly = poly_glr_max_years_model.transform(polyreg_test).select(\"SALARY\", \"prediction\").toPandas()\n",
        "pred_rf = rf_model.transform(regression_test).select(\"SALARY\", \"prediction\").toPandas()\n",
        "\n",
        "pred_glr.rename(columns={\"prediction\": \"Predicted\"}, inplace=True)\n",
        "pred_poly.rename(columns={\"prediction\": \"Predicted\"}, inplace=True)\n",
        "pred_rf.rename(columns={\"prediction\": \"Predicted\"}, inplace=True)\n",
        "\n",
        "evaluator_rmse = RegressionEvaluator(labelCol=\"SALARY\", predictionCol=\"prediction\", metricName=\"rmse\")\n",
        "evaluator_mae = RegressionEvaluator(labelCol=\"SALARY\", predictionCol=\"prediction\", metricName=\"mae\")\n",
        "evaluator_r2 = RegressionEvaluator(labelCol=\"SALARY\", predictionCol=\"prediction\", metricName=\"r2\")\n",
        "\n",
        "rmse_glr = evaluator_rmse.evaluate(glr_model.transform(regression_test))\n",
        "rmse_poly = evaluator_rmse.evaluate(poly_glr_max_years_model.transform(polyreg_test))\n",
        "rmse_rf = evaluator_rmse.evaluate(rf_model.transform(regression_test))\n",
        "\n",
        "mae_glr = evaluator_mae.evaluate(glr_model.transform(regression_test))\n",
        "mae_poly = evaluator_mae.evaluate(poly_glr_max_years_model.transform(polyreg_test))\n",
        "mae_rf = evaluator_mae.evaluate(rf_model.transform(regression_test))\n",
        "\n",
        "r2_glr = evaluator_r2.evaluate(glr_model.transform(regression_test))\n",
        "r2_poly = evaluator_r2.evaluate(poly_glr_max_years_model.transform(polyreg_test))\n",
        "r2_rf = evaluator_r2.evaluate(rf_model.transform(regression_test))\n",
        "\n",
        "aic_glr = glr_model.summary.aic\n",
        "aic_poly = poly_glr_max_years_model.summary.aic\n",
        "\n",
        "n_glr = regression_test.count()\n",
        "n_poly = polyreg_test.count()\n",
        "n_rf = regression_test.count()\n",
        "\n",
        "k_glr = len(assembler.getInputCols())\n",
        "k_poly = len(assembler_poly.getInputCols())\n",
        "k_rf = len(assembler.getInputCols())\n",
        "\n",
        "bic_glr = n_glr * math.log(rmse_glr**2) + k_glr * math.log(n_glr)\n",
        "bic_poly = n_poly * math.log(rmse_poly**2) + k_poly * math.log(n_poly)\n",
        "bic_rf = n_rf * math.log(rmse_rf**2) + k_rf * math.log(n_rf)\n",
        "\n",
        "results_df = pd.DataFrame({\n",
        "    \"Model\": [\"GLR (Linear Regression)\", \"Polynomial Regression\", \"Random Forest Regressor\"],\n",
        "    \"RMSE\": [rmse_glr, rmse_poly, rmse_rf],\n",
        "    \"MAE\": [mae_glr, mae_poly, mae_rf],\n",
        "    \"R²\": [r2_glr, r2_poly, r2_rf],\n",
        "    \"AIC\": [aic_glr, aic_poly, np.nan],\n",
        "    \"BIC\": [bic_glr, bic_poly, bic_rf]\n",
        "})\n",
        "\n",
        "print(\"\\nModel Performance Comparison:\")\n",
        "print(results_df.round(3))\n",
        "\n",
        "plt.figure(figsize=(10, 9))\n",
        "positions = [1, 2, 3]\n",
        "names = [\"GLR (Linear Regression)\", \"Polynomial Regression\", \"Random Forest Regressor\"]\n",
        "dataframes = [pred_glr, pred_poly, pred_rf]\n",
        "\n",
        "for pos, (name, df) in zip(positions, zip(names, dataframes)):\n",
        "    plt.subplot(2, 2, pos)\n",
        "    sns.scatterplot(x=\"SALARY\", y=\"Predicted\", data=df, alpha=0.6)\n",
        "    plt.plot(\n",
        "        [df[\"SALARY\"].min(), df[\"SALARY\"].max()],\n",
        "        [df[\"SALARY\"].min(), df[\"SALARY\"].max()],\n",
        "        color=\"red\", linestyle=\"--\"\n",
        "    )\n",
        "    plt.xlabel(\"Actual Salary\")\n",
        "    plt.ylabel(\"Predicted Salary\")\n",
        "    plt.title(f\"{name}: Actual vs Predicted\")\n",
        "\n",
        "plt.tight_layout()\n",
        "plt.show()\n"
      ]
    },
    {
      "cell_type": "markdown",
      "metadata": {},
      "source": [
        "### Comparision Interpretation\n",
        "1. Random Forest Regressor performed the best overall, achieving the lowest RMSE (21,266.70) and MAE (14,848.19), along with the highest R² (0.25), meaning it explains about 25% of the salary variation. \n",
        "2. Overall, this indicates that Random Forest captures non-linear relationships more effectively compared to other models."
      ]
    },
    {
      "cell_type": "markdown",
      "metadata": {},
      "source": [
        "### Calculating Log-Likelihood and BIC for PySpark Models"
      ]
    },
    {
      "cell_type": "code",
      "execution_count": 59,
      "metadata": {},
      "outputs": [
        {
          "name": "stderr",
          "output_type": "stream",
          "text": [
            "[Stage 908:>                                                        (0 + 1) / 1]\r"
          ]
        },
        {
          "name": "stdout",
          "output_type": "stream",
          "text": [
            "GLR Log-Likelihood: -46296.42\n",
            "GLR BIC: 92667.65\n",
            "\n",
            "Polynomial Log-Likelihood: -46782.66\n",
            "Polynomial BIC: 93648.43\n"
          ]
        },
        {
          "name": "stderr",
          "output_type": "stream",
          "text": [
            "                                                                                \r"
          ]
        }
      ],
      "source": [
        "import math\n",
        "\n",
        "def calculate_loglik_bic(summary, n, k):\n",
        "    dispersion = float(summary.dispersion)\n",
        "    deviance = float(summary.deviance)\n",
        "    \n",
        "    log_likelihood = -0.5 * (\n",
        "        n * math.log(2 * math.pi) +\n",
        "        n * math.log(dispersion) +\n",
        "        (deviance / dispersion)\n",
        "    )\n",
        "    bic = k * math.log(n) - 2 * log_likelihood\n",
        "    return log_likelihood, bic\n",
        "\n",
        "# GLR Model\n",
        "n_glr = regression_train.count()\n",
        "k_glr = len(assembler.getInputCols()) + 1\n",
        "logL_glr, bic_glr_ll = calculate_loglik_bic(glr_model.summary, n_glr, k_glr)\n",
        "\n",
        "# Polynomial Model\n",
        "n_poly = polyreg_train.count()\n",
        "k_poly = len(assembler_poly.getInputCols()) + 1\n",
        "logL_poly, bic_poly_ll = calculate_loglik_bic(poly_glr_max_years_model.summary, n_poly, k_poly)\n",
        "\n",
        "\n",
        "print(f\"GLR Log-Likelihood: {logL_glr:.2f}\")\n",
        "print(f\"GLR BIC: {bic_glr_ll:.2f}\\n\")\n",
        "\n",
        "print(f\"Polynomial Log-Likelihood: {logL_poly:.2f}\")\n",
        "print(f\"Polynomial BIC: {bic_poly_ll:.2f}\")\n"
      ]
    },
    {
      "cell_type": "markdown",
      "metadata": {},
      "source": [
        "###  Log-Likelihood and BIC Interpretation\n",
        "1. The Linear Regression (GLR) model fits the salary data better, with a higher Log-Likelihood (−46,296.42) and a lower BIC (92,667.65) compared to the Polynomial model (−46,782.66).\n",
        "2. Overall, the GLR model is simpler and more efficient."
      ]
    }
  ],
  "metadata": {
    "kernelspec": {
      "display_name": ".venv",
      "language": "python",
      "name": "python3"
    },
    "language_info": {
      "codemirror_mode": {
        "name": "ipython",
        "version": 3
      },
      "file_extension": ".py",
      "mimetype": "text/x-python",
      "name": "python",
      "nbconvert_exporter": "python",
      "pygments_lexer": "ipython3",
      "version": "3.12.3"
    }
  },
  "nbformat": 4,
  "nbformat_minor": 4
}
