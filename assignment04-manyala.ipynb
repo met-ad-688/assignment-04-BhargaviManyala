{
  "cells": [
    {
      "cell_type": "markdown",
      "metadata": {},
      "source": [
        "---\n",
        "title: Assignment 04\n",
        "author:\n",
        "  - name: Bhargavi Manyala\n",
        "    affiliations:\n",
        "      - id: bu\n",
        "        name: Boston University\n",
        "        city: Boston\n",
        "        state: MA\n",
        "number-sections: true\n",
        "date: today\n",
        "date-modified: today\n",
        "date-format: long\n",
        "format:\n",
        "  html:\n",
        "    theme: cerulean\n",
        "    toc: true\n",
        "    toc-depth: 2\n",
        "  pdf: \n",
        "    embed-resources: true\n",
        "    toc-depth: 2\n",
        "    geometry: \n",
        "      - landscape\n",
        "      - margin=0.5in\n",
        "engine: jupyter\n",
        "jupyter: assignment-04-kernel\n",
        "execute:\n",
        "  echo: true\n",
        "  eval: true\n",
        "  output: true\n",
        "  freeze: auto\n",
        "---\n",
        "\n"
      ]
    },
    {
      "cell_type": "markdown",
      "metadata": {},
      "source": [
        " # Load the Dataset"
      ]
    },
    {
      "cell_type": "code",
      "execution_count": 68,
      "metadata": {},
      "outputs": [
        {
          "name": "stderr",
          "output_type": "stream",
          "text": [
            "                                                                                \r"
          ]
        }
      ],
      "source": [
        "from pyspark.sql import SparkSession\n",
        "import pandas as pd\n",
        "import plotly.express as px\n",
        "import plotly.io as pio\n",
        "import numpy as np\n",
        "\n",
        "\n",
        "np.random.seed(42)\n",
        "\n",
        "pio.renderers.default = \"notebook+notebook_connected+vscode\"\n",
        "\n",
        "# Initialize Spark Session\n",
        "spark = SparkSession.builder.appName(\"LightcastData\").getOrCreate()\n",
        "\n",
        "# Load Data\n",
        "df = (\n",
        "    spark.read\n",
        "    .option(\"header\", \"true\")\n",
        "    .option(\"inferSchema\", \"true\")\n",
        "    .option(\"multiLine\", \"true\")\n",
        "    .option(\"escape\", \"\\\"\")  \n",
        "    .csv(\"data/lightcast_job_postings.csv\")\n",
        "\n",
        ")\n",
        "\n",
        "df.createOrReplaceTempView(\"job_postings\")\n",
        "#df.show(5)\n"
      ]
    },
    {
      "cell_type": "markdown",
      "metadata": {},
      "source": [
        "### Missing Value Treatment"
      ]
    },
    {
      "cell_type": "code",
      "execution_count": 69,
      "metadata": {},
      "outputs": [
        {
          "name": "stderr",
          "output_type": "stream",
          "text": [
            "                                                                                \r"
          ]
        }
      ],
      "source": [
        "# Missing Value Treatment\n",
        "from pyspark.sql import Window\n",
        "from pyspark.sql.functions import col, when, isnan, count, expr, median\n",
        "from pyspark.sql import functions as F\n",
        "\n",
        "# Calculate overall median salary\n",
        "overall_median_salarly = df.approxQuantile(\"SALARY\", [0.5], 0.01)[0]\n",
        "\n",
        "median_by_employment_type = df.groupBy(\"EMPLOYMENT_TYPE\").agg(expr(\"percentile_approx(SALARY, 0.5)\").alias(\"median_salary_emp_type\"))\n",
        "median_by_employment_type_name = df.groupBy(\"EMPLOYMENT_TYPE_NAME\").agg(expr(\"percentile_approx(SALARY, 0.5)\").alias(\"median_salary_emp_type_name\"))\n",
        "\n",
        "# Join median values back to the original dataframe\n",
        "df_salary_imputed = df.join(median_by_employment_type, on=\"EMPLOYMENT_TYPE\", how = \"left\").join(median_by_employment_type_name, on=\"EMPLOYMENT_TYPE_NAME\", how = \"left\")\n",
        "\n",
        "\n",
        "# Replace missing SALARY values\n",
        "df_salary_imputed=df_salary_imputed.withColumn(\"SALARY\", when(col(\"SALARY\").isNull(), \n",
        "                                when (col(\"median_salary_emp_type\").isNotNull(), col(\"median_salary_emp_type\"))\n",
        "                                .when(col(\"median_salary_emp_type_name\").isNotNull(), col(\"median_salary_emp_type_name\"))\n",
        "                                .otherwise(overall_median_salarly)\n",
        ").otherwise(col(\"SALARY\"))) \n",
        "\n",
        "\n"
      ]
    },
    {
      "cell_type": "markdown",
      "metadata": {},
      "source": [
        "# Feature Engineering"
      ]
    },
    {
      "cell_type": "markdown",
      "metadata": {},
      "source": [
        "### Take columns needed for anlaysis"
      ]
    },
    {
      "cell_type": "code",
      "execution_count": 70,
      "metadata": {},
      "outputs": [],
      "source": [
        "\n",
        "from pyspark.sql.functions import col, pow\n",
        "from pyspark.ml.feature import StringIndexer, OneHotEncoder, VectorAssembler\n",
        "from pyspark.ml import Pipeline\n",
        "from pyspark.sql.types import BooleanType, StringType, IntegerType\n",
        "from pyspark.sql.functions import regexp_replace, trim\n",
        "\n",
        "# Drop rows with NA values \n",
        "regression_df = df_salary_imputed.dropna(subset=[\n",
        "    \"SALARY\", \"MIN_YEARS_EXPERIENCE\", \"MAX_YEARS_EXPERIENCE\",\n",
        "    \"EDUCATION_LEVELS_NAME\", \"EMPLOYMENT_TYPE_NAME\", \"REMOTE_TYPE_NAME\",\n",
        "    \"DURATION\", \"IS_INTERNSHIP\", \"COMPANY_IS_STAFFING\",\"median_salary_emp_type\", \"median_salary_emp_type_name\"\n",
        "]).select(\n",
        "    \"SALARY\", \"MIN_YEARS_EXPERIENCE\", \"MAX_YEARS_EXPERIENCE\",\n",
        "    \"EDUCATION_LEVELS_NAME\", \"EMPLOYMENT_TYPE_NAME\", \"REMOTE_TYPE_NAME\",\n",
        "    \"DURATION\", \"IS_INTERNSHIP\", \"COMPANY_IS_STAFFING\",\"median_salary_emp_type\", \"median_salary_emp_type_name\"\n",
        "   \n",
        ")\n",
        "\n",
        "# Cast Duration to integer\n",
        "regression_df = regression_df.withColumn(\"DURATION\", col(\"DURATION\").cast(IntegerType()))\n",
        "\n"
      ]
    },
    {
      "cell_type": "markdown",
      "metadata": {},
      "source": [
        "### Clean categorical columns \n"
      ]
    },
    {
      "cell_type": "code",
      "execution_count": 71,
      "metadata": {},
      "outputs": [
        {
          "name": "stderr",
          "output_type": "stream",
          "text": [
            "[Stage 1071:>               (0 + 1) / 1][Stage 1072:>               (0 + 1) / 1]\r"
          ]
        },
        {
          "name": "stdout",
          "output_type": "stream",
          "text": [
            "+--------+--------------------+--------------------+---------------------+--------------------+----------------+--------+-------------+-------------------+----------------------+---------------------------+\n",
            "|SALARY  |MIN_YEARS_EXPERIENCE|MAX_YEARS_EXPERIENCE|EDUCATION_LEVELS_NAME|EMPLOYMENT_TYPE_NAME|REMOTE_TYPE_NAME|DURATION|IS_INTERNSHIP|COMPANY_IS_STAFFING|median_salary_emp_type|median_salary_emp_type_name|\n",
            "+--------+--------------------+--------------------+---------------------+--------------------+----------------+--------+-------------+-------------------+----------------------+---------------------------+\n",
            "|116500.0|2                   |2                   |\"Bachelor's degree\"  |Fulltime            |Undefined       |6       |0            |0                  |116500                |116500                     |\n",
            "|116500.0|7                   |7                   |\"No Education Listed\"|Fulltime            |Undefined       |18      |0            |1                  |116500                |116500                     |\n",
            "|116500.0|1                   |1                   |\"No Education Listed\"|Fulltime            |Undefined       |8       |0            |1                  |116500                |116500                     |\n",
            "|116500.0|1                   |1                   |\"Bachelor's degree\"  |Fulltime            |Undefined       |32      |0            |0                  |116500                |116500                     |\n",
            "|131100.0|2                   |2                   |\"Bachelor's degree\"  |Fulltime            |Undefined       |11      |0            |0                  |116500                |116500                     |\n",
            "+--------+--------------------+--------------------+---------------------+--------------------+----------------+--------+-------------+-------------------+----------------------+---------------------------+\n",
            "only showing top 5 rows\n",
            "\n"
          ]
        },
        {
          "name": "stderr",
          "output_type": "stream",
          "text": [
            "                                                                                \r"
          ]
        }
      ],
      "source": [
        "# Categorical columns\n",
        "categorical_cols = [ \"EDUCATION_LEVELS_NAME\", \"EMPLOYMENT_TYPE_NAME\", \"REMOTE_TYPE_NAME\", \"IS_INTERNSHIP\", \"COMPANY_IS_STAFFING\"]\n",
        "\n",
        "# Cast boolean columns to integer\n",
        "regression_df = regression_df.withColumn(\"IS_INTERNSHIP\", col(\"IS_INTERNSHIP\").cast(IntegerType()))\n",
        "regression_df = regression_df.withColumn(\"COMPANY_IS_STAFFING\", col(\"COMPANY_IS_STAFFING\").cast(IntegerType()))\n",
        "\n",
        "\n",
        "# Clean Remote Type Name\n",
        "regression_df = regression_df.withColumn(\n",
        "    \"REMOTE_TYPE_NAME\",\n",
        "    when(col(\"REMOTE_TYPE_NAME\") == \"Remote\", \"Remote\")\n",
        "    .when(col(\"REMOTE_TYPE_NAME\") == \"[None]\", \"Undefined\")\n",
        "    .when(col(\"REMOTE_TYPE_NAME\") == \"Not Remote\", \"On Premise\")\n",
        "    .when(col(\"REMOTE_TYPE_NAME\") == \"Hybrid Remote\", \"Hybrid\")\n",
        "    .when(col(\"REMOTE_TYPE_NAME\").isNull(), \"On Premise\")\n",
        "    .otherwise(col(\"REMOTE_TYPE_NAME\"))\n",
        ")\n",
        "\n",
        "# Clean Employment Type Name\n",
        "regression_df = regression_df.withColumn(\n",
        "    \"EMPLOYMENT_TYPE_NAME\",\n",
        "    when(col(\"EMPLOYMENT_TYPE_NAME\") == \"Part-time / full-time\", \"Flexible\")\n",
        "    .when(col(\"EMPLOYMENT_TYPE_NAME\") == \"Part-time (â‰¤ 32 hours)\", \"Parttime\")\n",
        "    .when(col(\"EMPLOYMENT_TYPE_NAME\") == \"Full-time (> 32 hours)\", \"Fulltime\")\n",
        "    .when(col(\"EMPLOYMENT_TYPE_NAME\").isNull(), \"Fulltime\")\n",
        "    .otherwise(col(\"EMPLOYMENT_TYPE_NAME\"))\n",
        ")\n",
        "\n",
        "# Clean Education Levels\n",
        "regression_df = regression_df.withColumn(\n",
        "    \"EDUCATION_LEVELS_NAME\",\n",
        "    trim(regexp_replace(col(\"EDUCATION_LEVELS_NAME\"), r\"[\\[\\]\\n]\", \"\"))\n",
        ")\n",
        "\n",
        "\n",
        "regression_df.show(5, truncate=False)\n",
        "\n"
      ]
    },
    {
      "cell_type": "markdown",
      "metadata": {},
      "source": [
        "### Final Features Structure"
      ]
    },
    {
      "cell_type": "code",
      "execution_count": 72,
      "metadata": {},
      "outputs": [
        {
          "name": "stderr",
          "output_type": "stream",
          "text": [
            "[Stage 1130:>                                                       (0 + 1) / 1]\r"
          ]
        },
        {
          "name": "stdout",
          "output_type": "stream",
          "text": [
            "+--------+-------------------------------------------------------+\n",
            "|SALARY  |features                                               |\n",
            "+--------+-------------------------------------------------------+\n",
            "|117500.0|(30,[0,1,2,7,25,28,29],[3.0,3.0,14.0,1.0,1.0,1.0,1.0]) |\n",
            "|100000.0|(30,[0,1,2,5,25,28,29],[3.0,3.0,42.0,1.0,1.0,1.0,1.0]) |\n",
            "|100000.0|(30,[0,1,2,5,25,28,29],[3.0,3.0,20.0,1.0,1.0,1.0,1.0]) |\n",
            "|100000.0|(30,[0,1,2,10,25,28,29],[1.0,1.0,42.0,1.0,1.0,1.0,1.0])|\n",
            "|162050.0|(30,[0,1,2,6,28,29],[5.0,5.0,33.0,1.0,1.0,1.0])        |\n",
            "+--------+-------------------------------------------------------+\n",
            "only showing top 5 rows\n",
            "\n"
          ]
        },
        {
          "name": "stderr",
          "output_type": "stream",
          "text": [
            "                                                                                \r"
          ]
        }
      ],
      "source": [
        "# Index and One-Hot Encode\n",
        "indexers = [StringIndexer(inputCol=col, outputCol=f\"{col}_idx\", handleInvalid=\"skip\") for col in categorical_cols]\n",
        "encoders = [OneHotEncoder(inputCol=f\"{col}_idx\", outputCol=f\"{col}_vec\") for col in categorical_cols]\n",
        "\n",
        "#Assemble base features\n",
        "assembler = VectorAssembler(inputCols=[\"MIN_YEARS_EXPERIENCE\", \"MAX_YEARS_EXPERIENCE\", \"DURATION\", \"IS_INTERNSHIP\", \"COMPANY_IS_STAFFING\"] + [f\"{col}_vec\" for col in categorical_cols], outputCol=\"features\")\n",
        "\n",
        "\n",
        "pipeline = Pipeline(stages=indexers + encoders + [assembler])\n",
        "regression_data =  pipeline.fit(regression_df).transform(regression_df)\n",
        "regression_data.select(\"SALARY\",\"features\").show(5, truncate=False)"
      ]
    },
    {
      "cell_type": "markdown",
      "metadata": {},
      "source": [
        "# Train/Test Split"
      ]
    },
    {
      "cell_type": "code",
      "execution_count": 73,
      "metadata": {},
      "outputs": [
        {
          "name": "stderr",
          "output_type": "stream",
          "text": [
            "                                                                                \r"
          ]
        },
        {
          "name": "stdout",
          "output_type": "stream",
          "text": [
            "(5039, 22)\n"
          ]
        },
        {
          "name": "stderr",
          "output_type": "stream",
          "text": [
            "                                                                                \r"
          ]
        },
        {
          "name": "stdout",
          "output_type": "stream",
          "text": [
            "(4070, 22)\n"
          ]
        },
        {
          "name": "stderr",
          "output_type": "stream",
          "text": [
            "[Stage 1165:>                                                       (0 + 1) / 1]\r"
          ]
        },
        {
          "name": "stdout",
          "output_type": "stream",
          "text": [
            "(969, 22)\n"
          ]
        },
        {
          "name": "stderr",
          "output_type": "stream",
          "text": [
            "                                                                                \r"
          ]
        }
      ],
      "source": [
        "# Split Data\n",
        "regression_train, regression_test = regression_data.randomSplit([0.8, 0.2], seed=42)\n",
        "\n",
        "print((regression_data.count(), len(regression_data.columns)))\n",
        "print((regression_train.count(), len(regression_train.columns)))\n",
        "print((regression_test.count(), len(regression_test.columns)))"
      ]
    },
    {
      "cell_type": "markdown",
      "metadata": {},
      "source": [
        "# Linear Regression"
      ]
    },
    {
      "cell_type": "code",
      "execution_count": 74,
      "metadata": {},
      "outputs": [
        {
          "name": "stderr",
          "output_type": "stream",
          "text": [
            "                                                                                \r"
          ]
        }
      ],
      "source": [
        "from pyspark.ml.regression import GeneralizedLinearRegression\n",
        "\n",
        "feature_names = assembler.getInputCols()\n",
        "\n",
        "glr = GeneralizedLinearRegression(\n",
        "    featuresCol=\"features\",\n",
        "    labelCol=\"SALARY\",\n",
        "    family=\"gaussian\",\n",
        "    link=\"identity\",  \n",
        "    maxIter=10,\n",
        "    regParam=0.3\n",
        ")\n",
        "\n",
        "glr_model = glr.fit(regression_train)\n",
        "summary = glr_model.summary"
      ]
    },
    {
      "cell_type": "markdown",
      "metadata": {},
      "source": [
        "### Coefficients and Intercept"
      ]
    },
    {
      "cell_type": "code",
      "execution_count": 75,
      "metadata": {},
      "outputs": [
        {
          "name": "stdout",
          "output_type": "stream",
          "text": [
            "Intercept: 85652.7724\n",
            "Coefficients:\n",
            "Feature 1: 1611.6790\n",
            "Feature 2: 1611.6790\n",
            "Feature 3: 28.5445\n",
            "Feature 4: 1121.2885\n",
            "Feature 5: 18.3956\n",
            "Feature 6: 1247.2920\n",
            "Feature 7: 4395.2939\n",
            "Feature 8: 9613.9354\n",
            "Feature 9: -25786.3100\n",
            "Feature 10: 14121.9131\n",
            "Feature 11: -10802.3370\n",
            "Feature 12: -1697.8713\n",
            "Feature 13: 9148.5643\n",
            "Feature 14: -12465.7922\n",
            "Feature 15: 1354.9289\n",
            "Feature 16: -16520.4017\n",
            "Feature 17: 33093.9737\n",
            "Feature 18: -9792.1286\n",
            "Feature 19: -5104.6947\n",
            "Feature 20: 3404.4200\n",
            "Feature 21: 5003.3703\n",
            "Feature 22: -27508.5112\n",
            "Feature 23: 2140.9090\n",
            "Feature 24: 6459.6838\n",
            "Feature 25: -6724.0612\n",
            "Feature 26: 3701.7083\n",
            "Feature 27: 7847.9024\n",
            "Feature 28: 2132.7804\n",
            "Feature 29: -1121.2880\n",
            "Feature 30: -18.3956\n"
          ]
        }
      ],
      "source": [
        "# Coefficients and Intercept\n",
        "print(\"Intercept: {:.4f}\".format(glr_model.intercept))\n",
        "print(\"Coefficients:\")\n",
        "for i, coef in enumerate(glr_model.coefficients):\n",
        "    print(f\"Feature {i + 1}: {coef:.4f}\")"
      ]
    },
    {
      "cell_type": "markdown",
      "metadata": {},
      "source": [
        "### Regression Summary"
      ]
    },
    {
      "cell_type": "code",
      "execution_count": 76,
      "metadata": {},
      "outputs": [
        {
          "name": "stdout",
          "output_type": "stream",
          "text": [
            "\n",
            "--- Regression Summary ---\n"
          ]
        },
        {
          "name": "stderr",
          "output_type": "stream",
          "text": [
            "[Stage 1187:>                                                       (0 + 1) / 1]\r"
          ]
        },
        {
          "name": "stdout",
          "output_type": "stream",
          "text": [
            "Coefficient Standard Errors: ['25284.0846', '25284.0846', '23.0776', '997287.1423', '178878.9931', '20925.2354', '20941.6279', '20945.0333', '21085.0222', '21087.7503', '21103.9802', '21115.3979', '21275.7023', '21353.2901', '21581.0996', '21655.1516', '21756.4357', '22072.8849', '22089.2698', '22646.1041', '22407.8241', '25731.0670', '25725.8832', '3160.6398', '3736.1231', '3336.2900', '3407.5906', '3790.8019', '997287.1423', '178878.9931', '1013428.7606']\n",
            "T-Values: ['0.0637', '0.0637', '1.2369', '0.0011', '0.0001', '0.0596', '0.2099', '0.4590', '-1.2230', '0.6697', '-0.5119', '-0.0804', '0.4300', '-0.5838', '0.0628', '-0.7629', '1.5211', '-0.4436', '-0.2311', '0.1503', '0.2233', '-1.0691', '0.0832', '2.0438', '-1.7997', '1.1095', '2.3031', '0.5626', '-0.0011', '-0.0001', '0.0845']\n",
            "P-Values: ['0.9492', '0.9492', '0.2162', '0.9991', '0.9999', '0.9525', '0.8338', '0.6463', '0.2214', '0.5031', '0.6088', '0.9359', '0.6672', '0.5594', '0.9499', '0.4456', '0.1283', '0.6573', '0.8173', '0.8805', '0.8233', '0.2851', '0.9337', '0.0410', '0.0720', '0.2673', '0.0213', '0.5737', '0.9991', '0.9999', '0.9326']\n"
          ]
        },
        {
          "name": "stderr",
          "output_type": "stream",
          "text": [
            "                                                                                \r"
          ]
        }
      ],
      "source": [
        "# Summary stats\n",
        "print(\"\\n--- Regression Summary ---\")\n",
        "print(\"Coefficient Standard Errors:\", [f\"{val:.4f}\" for val in summary.coefficientStandardErrors])\n",
        "print(\"T-Values:\", [f\"{val:.4f}\" for val in summary.tValues])\n",
        "print(\"P-Values:\", [f\"{val:.4f}\" for val in summary.pValues])"
      ]
    },
    {
      "cell_type": "markdown",
      "metadata": {},
      "source": [
        "### Dispersion Summary"
      ]
    },
    {
      "cell_type": "code",
      "execution_count": 77,
      "metadata": {},
      "outputs": [
        {
          "name": "stderr",
          "output_type": "stream",
          "text": [
            "                                                                                \r"
          ]
        },
        {
          "name": "stdout",
          "output_type": "stream",
          "text": [
            "Null Deviance: 2321265663379.3027\n",
            "Residual DF Null: 4069\n",
            "Deviance: 1808610663869.2112\n",
            "Residual DF: 4039\n"
          ]
        },
        {
          "name": "stderr",
          "output_type": "stream",
          "text": [
            "[Stage 1203:>                                                       (0 + 1) / 1]\r"
          ]
        },
        {
          "name": "stdout",
          "output_type": "stream",
          "text": [
            "AIC: 92656.7396\n"
          ]
        },
        {
          "name": "stderr",
          "output_type": "stream",
          "text": [
            "                                                                                \r"
          ]
        }
      ],
      "source": [
        "# print(f\"\\nDispersion: {summary.dispersion:.4f}\")\n",
        "print(f\"Null Deviance: {summary.nullDeviance:.4f}\")\n",
        "print(f\"Residual DF Null: {summary.residualDegreeOfFreedomNull}\")\n",
        "print(f\"Deviance: {summary.deviance:.4f}\")\n",
        "print(f\"Residual DF: {summary.residualDegreeOfFreedom}\")\n",
        "print(f\"AIC: {summary.aic:.4f}\")"
      ]
    },
    {
      "cell_type": "markdown",
      "metadata": {},
      "source": [
        "### Diagnostics"
      ]
    },
    {
      "cell_type": "code",
      "execution_count": 78,
      "metadata": {},
      "outputs": [
        {
          "name": "stdout",
          "output_type": "stream",
          "text": [
            "--- This is a diagnostic check, no need to print in the final doc ---\n",
            "Length of features: 31\n",
            "Length of coefs: 31\n",
            "Length of se: 31\n",
            "Length of tvals: 31\n",
            "Length of pvals: 31\n"
          ]
        }
      ],
      "source": [
        "feature_names = summary._call_java(\"featureNames\")\n",
        "\n",
        "\n",
        "features = [\"Intercept\"] + list(feature_names)\n",
        "coefs    = [glr_model.intercept] + list(glr_model.coefficients)\n",
        "se       = list(summary.coefficientStandardErrors)\n",
        "tvals    = list(summary.tValues)\n",
        "pvals    = list(summary.pValues)\n",
        "\n",
        "\n",
        "print(\"--- This is a diagnostic check, no need to print in the final doc ---\")\n",
        "print(\"Length of features:\", len(features))\n",
        "print(\"Length of coefs:\", len(coefs))\n",
        "print(\"Length of se:\", len(se))\n",
        "print(\"Length of tvals:\", len(tvals))\n",
        "print(\"Length of pvals:\", len(pvals))"
      ]
    },
    {
      "cell_type": "markdown",
      "metadata": {},
      "source": [
        "### Tabulate"
      ]
    },
    {
      "cell_type": "code",
      "execution_count": 79,
      "metadata": {},
      "outputs": [
        {
          "data": {
            "text/html": [
              "<table border=\"1\" class=\"dataframe\">\n",
              "  <thead>\n",
              "    <tr style=\"text-align: right;\">\n",
              "      <th></th>\n",
              "      <th>Feature</th>\n",
              "      <th>Estimate</th>\n",
              "      <th>Std Error</th>\n",
              "      <th>t-stat</th>\n",
              "      <th>P-Value</th>\n",
              "    </tr>\n",
              "  </thead>\n",
              "  <tbody>\n",
              "    <tr>\n",
              "      <th>0</th>\n",
              "      <td>Intercept</td>\n",
              "      <td>85652.7724</td>\n",
              "      <td>25284.0846</td>\n",
              "      <td>0.0637</td>\n",
              "      <td>0.9492</td>\n",
              "    </tr>\n",
              "    <tr>\n",
              "      <th>1</th>\n",
              "      <td>MIN_YEARS_EXPERIENCE</td>\n",
              "      <td>1611.6790</td>\n",
              "      <td>25284.0846</td>\n",
              "      <td>0.0637</td>\n",
              "      <td>0.9492</td>\n",
              "    </tr>\n",
              "    <tr>\n",
              "      <th>2</th>\n",
              "      <td>MAX_YEARS_EXPERIENCE</td>\n",
              "      <td>1611.6790</td>\n",
              "      <td>23.0776</td>\n",
              "      <td>1.2369</td>\n",
              "      <td>0.2162</td>\n",
              "    </tr>\n",
              "    <tr>\n",
              "      <th>3</th>\n",
              "      <td>DURATION</td>\n",
              "      <td>28.5445</td>\n",
              "      <td>997287.1423</td>\n",
              "      <td>0.0011</td>\n",
              "      <td>0.9991</td>\n",
              "    </tr>\n",
              "    <tr>\n",
              "      <th>4</th>\n",
              "      <td>IS_INTERNSHIP</td>\n",
              "      <td>1121.2885</td>\n",
              "      <td>178878.9931</td>\n",
              "      <td>0.0001</td>\n",
              "      <td>0.9999</td>\n",
              "    </tr>\n",
              "    <tr>\n",
              "      <th>5</th>\n",
              "      <td>COMPANY_IS_STAFFING</td>\n",
              "      <td>18.3956</td>\n",
              "      <td>20925.2354</td>\n",
              "      <td>0.0596</td>\n",
              "      <td>0.9525</td>\n",
              "    </tr>\n",
              "    <tr>\n",
              "      <th>6</th>\n",
              "      <td>EDUCATION_LEVELS_NAME_vec_\"Bachelor's degree\"</td>\n",
              "      <td>1247.2920</td>\n",
              "      <td>20941.6279</td>\n",
              "      <td>0.2099</td>\n",
              "      <td>0.8338</td>\n",
              "    </tr>\n",
              "    <tr>\n",
              "      <th>7</th>\n",
              "      <td>EDUCATION_LEVELS_NAME_vec_\"No Education Listed\"</td>\n",
              "      <td>4395.2939</td>\n",
              "      <td>20945.0333</td>\n",
              "      <td>0.4590</td>\n",
              "      <td>0.6463</td>\n",
              "    </tr>\n",
              "    <tr>\n",
              "      <th>8</th>\n",
              "      <td>EDUCATION_LEVELS_NAME_vec_\"Bachelor's degree\",  \"Master's degree\"</td>\n",
              "      <td>9613.9354</td>\n",
              "      <td>21085.0222</td>\n",
              "      <td>-1.2230</td>\n",
              "      <td>0.2214</td>\n",
              "    </tr>\n",
              "    <tr>\n",
              "      <th>9</th>\n",
              "      <td>EDUCATION_LEVELS_NAME_vec_\"High school or GED\",  \"Bachelor's degree\"</td>\n",
              "      <td>-25786.3100</td>\n",
              "      <td>21087.7503</td>\n",
              "      <td>0.6697</td>\n",
              "      <td>0.5031</td>\n",
              "    </tr>\n",
              "    <tr>\n",
              "      <th>10</th>\n",
              "      <td>EDUCATION_LEVELS_NAME_vec_\"Bachelor's degree\",  \"Master's degree\",  \"Ph.D. or professional degree\"</td>\n",
              "      <td>14121.9131</td>\n",
              "      <td>21103.9802</td>\n",
              "      <td>-0.5119</td>\n",
              "      <td>0.6088</td>\n",
              "    </tr>\n",
              "    <tr>\n",
              "      <th>11</th>\n",
              "      <td>EDUCATION_LEVELS_NAME_vec_\"High school or GED\"</td>\n",
              "      <td>-10802.3370</td>\n",
              "      <td>21115.3979</td>\n",
              "      <td>-0.0804</td>\n",
              "      <td>0.9359</td>\n",
              "    </tr>\n",
              "    <tr>\n",
              "      <th>12</th>\n",
              "      <td>EDUCATION_LEVELS_NAME_vec_\"Associate degree\",  \"Bachelor's degree\"</td>\n",
              "      <td>-1697.8713</td>\n",
              "      <td>21275.7023</td>\n",
              "      <td>0.4300</td>\n",
              "      <td>0.6672</td>\n",
              "    </tr>\n",
              "    <tr>\n",
              "      <th>13</th>\n",
              "      <td>EDUCATION_LEVELS_NAME_vec_\"Master's degree\"</td>\n",
              "      <td>9148.5643</td>\n",
              "      <td>21353.2901</td>\n",
              "      <td>-0.5838</td>\n",
              "      <td>0.5594</td>\n",
              "    </tr>\n",
              "    <tr>\n",
              "      <th>14</th>\n",
              "      <td>EDUCATION_LEVELS_NAME_vec_\"Associate degree\"</td>\n",
              "      <td>-12465.7922</td>\n",
              "      <td>21581.0996</td>\n",
              "      <td>0.0628</td>\n",
              "      <td>0.9499</td>\n",
              "    </tr>\n",
              "    <tr>\n",
              "      <th>15</th>\n",
              "      <td>EDUCATION_LEVELS_NAME_vec_\"Associate degree\",  \"Bachelor's degree\",  \"Master's degree\"</td>\n",
              "      <td>1354.9289</td>\n",
              "      <td>21655.1516</td>\n",
              "      <td>-0.7629</td>\n",
              "      <td>0.4456</td>\n",
              "    </tr>\n",
              "    <tr>\n",
              "      <th>16</th>\n",
              "      <td>EDUCATION_LEVELS_NAME_vec_\"Associate degree\",  \"Bachelor's degree\",  \"Master's degree\",  \"Ph.D. or professional degree\"</td>\n",
              "      <td>-16520.4017</td>\n",
              "      <td>21756.4357</td>\n",
              "      <td>1.5211</td>\n",
              "      <td>0.1283</td>\n",
              "    </tr>\n",
              "    <tr>\n",
              "      <th>17</th>\n",
              "      <td>EDUCATION_LEVELS_NAME_vec_\"Bachelor's degree\",  \"Ph.D. or professional degree\"</td>\n",
              "      <td>33093.9737</td>\n",
              "      <td>22072.8849</td>\n",
              "      <td>-0.4436</td>\n",
              "      <td>0.6573</td>\n",
              "    </tr>\n",
              "    <tr>\n",
              "      <th>18</th>\n",
              "      <td>EDUCATION_LEVELS_NAME_vec_\"High school or GED\",  \"Associate degree\",  \"Bachelor's degree\"</td>\n",
              "      <td>-9792.1286</td>\n",
              "      <td>22089.2698</td>\n",
              "      <td>-0.2311</td>\n",
              "      <td>0.8173</td>\n",
              "    </tr>\n",
              "    <tr>\n",
              "      <th>19</th>\n",
              "      <td>EDUCATION_LEVELS_NAME_vec_\"High school or GED\",  \"Bachelor's degree\",  \"Master's degree\"</td>\n",
              "      <td>-5104.6947</td>\n",
              "      <td>22646.1041</td>\n",
              "      <td>0.1503</td>\n",
              "      <td>0.8805</td>\n",
              "    </tr>\n",
              "    <tr>\n",
              "      <th>20</th>\n",
              "      <td>EDUCATION_LEVELS_NAME_vec_\"Master's degree\",  \"Ph.D. or professional degree\"</td>\n",
              "      <td>3404.4200</td>\n",
              "      <td>22407.8241</td>\n",
              "      <td>0.2233</td>\n",
              "      <td>0.8233</td>\n",
              "    </tr>\n",
              "    <tr>\n",
              "      <th>21</th>\n",
              "      <td>EDUCATION_LEVELS_NAME_vec_\"High school or GED\",  \"Associate degree\"</td>\n",
              "      <td>5003.3703</td>\n",
              "      <td>25731.0670</td>\n",
              "      <td>-1.0691</td>\n",
              "      <td>0.2851</td>\n",
              "    </tr>\n",
              "    <tr>\n",
              "      <th>22</th>\n",
              "      <td>EDUCATION_LEVELS_NAME_vec_\"High school or GED\",  \"Associate degree\",  \"Bachelor's degree\",  \"Master's degree\"</td>\n",
              "      <td>-27508.5112</td>\n",
              "      <td>25725.8832</td>\n",
              "      <td>0.0832</td>\n",
              "      <td>0.9337</td>\n",
              "    </tr>\n",
              "    <tr>\n",
              "      <th>23</th>\n",
              "      <td>EDUCATION_LEVELS_NAME_vec_\"Ph.D. or professional degree\"</td>\n",
              "      <td>2140.9090</td>\n",
              "      <td>3160.6398</td>\n",
              "      <td>2.0438</td>\n",
              "      <td>0.0410</td>\n",
              "    </tr>\n",
              "    <tr>\n",
              "      <th>24</th>\n",
              "      <td>EMPLOYMENT_TYPE_NAME_vec_Fulltime</td>\n",
              "      <td>6459.6838</td>\n",
              "      <td>3736.1231</td>\n",
              "      <td>-1.7997</td>\n",
              "      <td>0.0720</td>\n",
              "    </tr>\n",
              "    <tr>\n",
              "      <th>25</th>\n",
              "      <td>EMPLOYMENT_TYPE_NAME_vec_Parttime</td>\n",
              "      <td>-6724.0612</td>\n",
              "      <td>3336.2900</td>\n",
              "      <td>1.1095</td>\n",
              "      <td>0.2673</td>\n",
              "    </tr>\n",
              "    <tr>\n",
              "      <th>26</th>\n",
              "      <td>REMOTE_TYPE_NAME_vec_Undefined</td>\n",
              "      <td>3701.7083</td>\n",
              "      <td>3407.5906</td>\n",
              "      <td>2.3031</td>\n",
              "      <td>0.0213</td>\n",
              "    </tr>\n",
              "    <tr>\n",
              "      <th>27</th>\n",
              "      <td>REMOTE_TYPE_NAME_vec_Remote</td>\n",
              "      <td>7847.9024</td>\n",
              "      <td>3790.8019</td>\n",
              "      <td>0.5626</td>\n",
              "      <td>0.5737</td>\n",
              "    </tr>\n",
              "    <tr>\n",
              "      <th>28</th>\n",
              "      <td>REMOTE_TYPE_NAME_vec_Hybrid</td>\n",
              "      <td>2132.7804</td>\n",
              "      <td>997287.1423</td>\n",
              "      <td>-0.0011</td>\n",
              "      <td>0.9991</td>\n",
              "    </tr>\n",
              "    <tr>\n",
              "      <th>29</th>\n",
              "      <td>IS_INTERNSHIP_vec_0</td>\n",
              "      <td>-1121.2880</td>\n",
              "      <td>178878.9931</td>\n",
              "      <td>-0.0001</td>\n",
              "      <td>0.9999</td>\n",
              "    </tr>\n",
              "    <tr>\n",
              "      <th>30</th>\n",
              "      <td>COMPANY_IS_STAFFING_vec_0</td>\n",
              "      <td>-18.3956</td>\n",
              "      <td>1013428.7606</td>\n",
              "      <td>0.0845</td>\n",
              "      <td>0.9326</td>\n",
              "    </tr>\n",
              "  </tbody>\n",
              "</table>"
            ],
            "text/plain": [
              "<IPython.core.display.HTML object>"
            ]
          },
          "execution_count": 79,
          "metadata": {},
          "output_type": "execute_result"
        }
      ],
      "source": [
        "import pandas as pd\n",
        "from tabulate import tabulate\n",
        "from IPython.display import HTML\n",
        "\n",
        "coef_table = pd.DataFrame({\n",
        "    \"Feature\": features,\n",
        "    \"Estimate\": [f\"{v:.4f}\" if v is not None else None for v in coefs],\n",
        "    \"Std Error\": [f\"{v:.4f}\" if v is not None else None for v in se],\n",
        "    \"t-stat\": [f\"{v:.4f}\" if v is not None else None for v in tvals],\n",
        "    \"P-Value\": [f\"{v:.4f}\" if v is not None else None for v in pvals]\n",
        "})\n",
        "\n",
        "\n",
        "coef_table.to_csv(\"output/glr_summary.csv\", index=False)\n",
        "\n",
        "\n",
        "HTML(coef_table.to_html())"
      ]
    }
  ],
  "metadata": {
    "kernelspec": {
      "display_name": ".venv",
      "language": "python",
      "name": "python3"
    },
    "language_info": {
      "codemirror_mode": {
        "name": "ipython",
        "version": 3
      },
      "file_extension": ".py",
      "mimetype": "text/x-python",
      "name": "python",
      "nbconvert_exporter": "python",
      "pygments_lexer": "ipython3",
      "version": "3.12.3"
    }
  },
  "nbformat": 4,
  "nbformat_minor": 4
}
