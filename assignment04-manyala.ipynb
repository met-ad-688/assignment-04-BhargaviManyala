{
  "cells": [
    {
      "cell_type": "markdown",
      "metadata": {},
      "source": [
        "---\n",
        "title: Assignment 04\n",
        "author:\n",
        "  - name: Bhargavi Manyala\n",
        "    affiliations:\n",
        "      - id: bu\n",
        "        name: Boston University\n",
        "        city: Boston\n",
        "        state: MA\n",
        "number-sections: true\n",
        "date: today\n",
        "date-modified: today\n",
        "date-format: long\n",
        "format:\n",
        "  html:\n",
        "    theme: cerulean\n",
        "    toc: true\n",
        "    toc-depth: 2\n",
        "engine: jupyter\n",
        "jupyter: assignment-04-kernel\n",
        "execute:\n",
        "  echo: true\n",
        "  eval: true\n",
        "  output: true\n",
        "  freeze: auto\n",
        "---\n",
        "\n",
        "# Load the Dataset"
      ]
    },
    {
      "cell_type": "code",
      "execution_count": 14,
      "metadata": {},
      "outputs": [
        {
          "name": "stderr",
          "output_type": "stream",
          "text": [
            "                                                                                \r"
          ]
        }
      ],
      "source": [
        "from pyspark.sql import SparkSession\n",
        "import pandas as pd\n",
        "import plotly.express as px\n",
        "import plotly.io as pio\n",
        "import numpy as np\n",
        "from pyspark.sql.functions import col, pow\n",
        "from pyspark.ml.feature import StringIndexer, OneHotEncoder, VectorAssembler\n",
        "from pyspark.ml import Pipeline\n",
        "from pyspark.sql.functions import col, regexp_replace, trim\n",
        "\n",
        "\n",
        "np.random.seed(42)\n",
        "\n",
        "pio.renderers.default = \"notebook+notebook_connected+vscode\"\n",
        "\n",
        "# Initialize Spark Session\n",
        "spark = SparkSession.builder.appName(\"LightcastData\").getOrCreate()\n",
        "\n",
        "# Load Data\n",
        "df = (\n",
        "    spark.read\n",
        "    .option(\"header\", \"true\")\n",
        "    .option(\"inferSchema\", \"true\")\n",
        "    .option(\"multiLine\", \"true\")\n",
        "    .option(\"escape\", \"\\\"\")  \n",
        "    .csv(\"data/lightcast_job_postings.csv\")\n",
        "\n",
        ")\n",
        "\n",
        "df.createOrReplaceTempView(\"job_postings\")\n",
        "#df.show(5)\n"
      ]
    },
    {
      "cell_type": "markdown",
      "metadata": {},
      "source": [
        "# Feature Engineering"
      ]
    },
    {
      "cell_type": "markdown",
      "metadata": {},
      "source": [
        "### Selection of Variables"
      ]
    },
    {
      "cell_type": "code",
      "execution_count": null,
      "metadata": {},
      "outputs": [
        {
          "name": "stderr",
          "output_type": "stream",
          "text": [
            "                                                                                \r"
          ]
        },
        {
          "name": "stdout",
          "output_type": "stream",
          "text": [
            "Rows before: 72498 | Rows after NA drop: 2243\n",
            "[OK] Data cleaned and numeric columns casted.\n",
            "+--------+--------------------+--------------------+--------+-----------+--------------------+---------------------+\n",
            "|  SALARY|MIN_YEARS_EXPERIENCE|MAX_YEARS_EXPERIENCE|DURATION|SALARY_FROM|EMPLOYMENT_TYPE_NAME|EDUCATION_LEVELS_NAME|\n",
            "+--------+--------------------+--------------------+--------+-----------+--------------------+---------------------+\n",
            "|131100.0|                 2.0|                 2.0|    11.0|   113400.0|Full-time (> 32 h...|    Bachelor's degree|\n",
            "|136950.0|                 3.0|                 3.0|    28.0|   115300.0|Full-time (> 32 h...| Bachelor's degree...|\n",
            "|136950.0|                 3.0|                 3.0|    28.0|   115300.0|Full-time (> 32 h...| Bachelor's degree...|\n",
            "|104000.0|                 3.0|                 3.0|     8.0|   104000.0|Full-time (> 32 h...|    Bachelor's degree|\n",
            "| 80000.0|                 3.0|                 3.0|    37.0|    60000.0|Full-time (> 32 h...|    Bachelor's degree|\n",
            "+--------+--------------------+--------------------+--------+-----------+--------------------+---------------------+\n",
            "only showing top 5 rows\n",
            "\n"
          ]
        }
      ],
      "source": [
        "min_years = \"MIN_YEARS_EXPERIENCE\"\n",
        "cont_cols = [\"MAX_YEARS_EXPERIENCE\", \"DURATION\", \"SALARY_FROM\"]\n",
        "cat_cols = [\"EMPLOYMENT_TYPE_NAME\", \"EDUCATION_LEVELS_NAME\"]\n",
        "y_col = \"SALARY\"\n",
        "\n",
        "required_cols = [y_col, min_years] + cont_cols + cat_cols\n",
        "df_clean = df.dropna(subset=required_cols).select(required_cols)\n",
        "\n",
        "\n",
        "print(\"Rows before:\", df.count(), \"| Rows after NA drop:\", df_clean.count())\n",
        "\n",
        "# --- Clean EDUCATION_LEVELS_NAME ---\n",
        "df_clean = df_clean.withColumn(\n",
        "    \"EDUCATION_LEVELS_NAME\",\n",
        "    trim(regexp_replace(col(\"EDUCATION_LEVELS_NAME\"), r\"[\\[\\]\\n\\\"]\", \"\"))\n",
        ")\n",
        "\n",
        "# --- Cast numeric columns to double ---\n",
        "for c in [y_col, min_years] + cont_cols:\n",
        "    df_clean = df_clean.withColumn(c, col(c).cast(\"double\"))\n",
        "\n",
        "# --- Final Check ---\n",
        "print(\"[OK] Data cleaned and numeric columns casted.\")\n",
        "df_clean.show(5)\n"
      ]
    }
  ],
  "metadata": {
    "kernelspec": {
      "display_name": ".venv",
      "language": "python",
      "name": "python3"
    },
    "language_info": {
      "codemirror_mode": {
        "name": "ipython",
        "version": 3
      },
      "file_extension": ".py",
      "mimetype": "text/x-python",
      "name": "python",
      "nbconvert_exporter": "python",
      "pygments_lexer": "ipython3",
      "version": "3.12.3"
    }
  },
  "nbformat": 4,
  "nbformat_minor": 4
}
