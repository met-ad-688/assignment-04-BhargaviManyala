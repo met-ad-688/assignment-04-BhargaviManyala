{
  "cells": [
    {
      "cell_type": "markdown",
      "metadata": {},
      "source": [
        "---\n",
        "title: Assignment 04\n",
        "author:\n",
        "  - name: Bhargavi Manyala\n",
        "    affiliations:\n",
        "      - id: bu\n",
        "        name: Boston University\n",
        "        city: Boston\n",
        "        state: MA\n",
        "number-sections: true\n",
        "date: today\n",
        "date-modified: today\n",
        "date-format: long\n",
        "format:\n",
        "  html:\n",
        "    theme: cerulean\n",
        "    toc: true\n",
        "    toc-depth: 2\n",
        "engine: jupyter\n",
        "jupyter: assignment-04-kernel\n",
        "execute:\n",
        "  echo: true\n",
        "  eval: true\n",
        "  output: true\n",
        "  freeze: auto\n",
        "---\n",
        "\n",
        "# Load the Dataset"
      ]
    },
    {
      "cell_type": "code",
      "execution_count": 22,
      "metadata": {},
      "outputs": [
        {
          "name": "stderr",
          "output_type": "stream",
          "text": [
            "                                                                                \r"
          ]
        }
      ],
      "source": [
        "from pyspark.sql import SparkSession\n",
        "import pandas as pd\n",
        "import plotly.express as px\n",
        "import plotly.io as pio\n",
        "import numpy as np\n",
        "from pyspark.sql.functions import col, pow\n",
        "from pyspark.ml.feature import StringIndexer, OneHotEncoder, VectorAssembler\n",
        "from pyspark.ml import Pipeline\n",
        "from pyspark.sql.functions import col, when, expr, trim, regexp_replace\n",
        "from pyspark.sql.functions import col, sum\n",
        "import matplotlib.pyplot as plt\n",
        "\n",
        "\n",
        "np.random.seed(42)\n",
        "\n",
        "pio.renderers.default = \"notebook+notebook_connected+vscode\"\n",
        "\n",
        "# Initialize Spark Session\n",
        "spark = SparkSession.builder.appName(\"LightcastData\").getOrCreate()\n",
        "\n",
        "# Load Data\n",
        "df = (\n",
        "    spark.read\n",
        "    .option(\"header\", \"true\")\n",
        "    .option(\"inferSchema\", \"true\")\n",
        "    .option(\"multiLine\", \"true\")\n",
        "    .option(\"escape\", \"\\\"\")  \n",
        "    .csv(\"data/lightcast_job_postings.csv\")\n",
        "\n",
        ")\n",
        "\n",
        "df.createOrReplaceTempView(\"job_postings\")\n",
        "#df.show(5)\n"
      ]
    },
    {
      "cell_type": "markdown",
      "metadata": {},
      "source": [
        "# Feature Engineering"
      ]
    },
    {
      "cell_type": "markdown",
      "metadata": {},
      "source": [
        "### Take columns needed for anlaysis"
      ]
    },
    {
      "cell_type": "code",
      "execution_count": 23,
      "metadata": {},
      "outputs": [],
      "source": [
        "eda_cols = [\n",
        "    \"SALARY\",\n",
        "    \"MIN_YEARS_EXPERIENCE\",\n",
        "    \"DURATION\",\n",
        "    \"COMPANY_IS_STAFFING\", \n",
        "    \"IS_INTERNSHIP\",\n",
        "    \"STATE_NAME\",\n",
        "    \"REMOTE_TYPE_NAME\",\n",
        "    \"EMPLOYMENT_TYPE_NAME\",\n",
        "    \"MIN_EDULEVELS_NAME\"\n",
        "]\n",
        "\n",
        "df_eda = df.dropna(subset=eda_cols)\n",
        "df_eda = df_eda.select(eda_cols)\n",
        "\n",
        "\n",
        "\n",
        "\n"
      ]
    },
    {
      "cell_type": "markdown",
      "metadata": {},
      "source": [
        "### Clean categorical columns \n"
      ]
    },
    {
      "cell_type": "code",
      "execution_count": 24,
      "metadata": {},
      "outputs": [
        {
          "name": "stdout",
          "output_type": "stream",
          "text": [
            "\n",
            "---- REMOTE_TYPE_NAME ----\n"
          ]
        },
        {
          "name": "stderr",
          "output_type": "stream",
          "text": [
            "                                                                                \r"
          ]
        },
        {
          "name": "stdout",
          "output_type": "stream",
          "text": [
            "+----------------+\n",
            "|REMOTE_TYPE_NAME|\n",
            "+----------------+\n",
            "|Remote          |\n",
            "|On Premise      |\n",
            "|Hybrid          |\n",
            "|Undefined       |\n",
            "+----------------+\n",
            "\n",
            "\n",
            "---- EMPLOYMENT_TYPE_NAME ----\n"
          ]
        },
        {
          "name": "stderr",
          "output_type": "stream",
          "text": [
            "                                                                                \r"
          ]
        },
        {
          "name": "stdout",
          "output_type": "stream",
          "text": [
            "+--------------------+\n",
            "|EMPLOYMENT_TYPE_NAME|\n",
            "+--------------------+\n",
            "|Flexible            |\n",
            "|Fulltime            |\n",
            "|Parttime            |\n",
            "+--------------------+\n",
            "\n",
            "\n",
            "---- MIN_EDULEVELS_NAME ----\n"
          ]
        },
        {
          "name": "stderr",
          "output_type": "stream",
          "text": [
            "                                                                                \r"
          ]
        },
        {
          "name": "stdout",
          "output_type": "stream",
          "text": [
            "+------------------+\n",
            "|MIN_EDULEVELS_NAME|\n",
            "+------------------+\n",
            "|High School       |\n",
            "|None              |\n",
            "|Associate         |\n",
            "|PhD               |\n",
            "|Bachelor's        |\n",
            "|Master's          |\n",
            "+------------------+\n",
            "\n",
            "\n",
            "---- COMPANY_IS_STAFFING ----\n"
          ]
        },
        {
          "name": "stderr",
          "output_type": "stream",
          "text": [
            "                                                                                \r"
          ]
        },
        {
          "name": "stdout",
          "output_type": "stream",
          "text": [
            "+-------------------+\n",
            "|COMPANY_IS_STAFFING|\n",
            "+-------------------+\n",
            "|true               |\n",
            "|false              |\n",
            "+-------------------+\n",
            "\n",
            "\n",
            "---- IS_INTERNSHIP ----\n"
          ]
        },
        {
          "name": "stderr",
          "output_type": "stream",
          "text": [
            "[Stage 206:>                                                        (0 + 1) / 1]\r"
          ]
        },
        {
          "name": "stdout",
          "output_type": "stream",
          "text": [
            "+-------------+\n",
            "|IS_INTERNSHIP|\n",
            "+-------------+\n",
            "|true         |\n",
            "|false        |\n",
            "+-------------+\n",
            "\n"
          ]
        },
        {
          "name": "stderr",
          "output_type": "stream",
          "text": [
            "                                                                                \r"
          ]
        }
      ],
      "source": [
        "\n",
        "# Clean Remote Type Name\n",
        "\n",
        "df_eda = df_eda.withColumn(\n",
        "    \"REMOTE_TYPE_NAME\",\n",
        "    when(col(\"REMOTE_TYPE_NAME\") == \"Remote\", \"Remote\")\n",
        "    .when(col(\"REMOTE_TYPE_NAME\") == \"[None]\", \"Undefined\")\n",
        "    .when(col(\"REMOTE_TYPE_NAME\") == \"Not Remote\", \"On Premise\")\n",
        "    .when(col(\"REMOTE_TYPE_NAME\") == \"Hybrid Remote\", \"Hybrid\")\n",
        "    .when(col(\"REMOTE_TYPE_NAME\").isNull(), \"On Premise\")\n",
        "    .otherwise(col(\"REMOTE_TYPE_NAME\"))\n",
        ")\n",
        "\n",
        "# Clean Employment Type Name\n",
        "\n",
        "df_eda = df_eda.withColumn(\n",
        "    \"EMPLOYMENT_TYPE_NAME\",\n",
        "    when(col(\"EMPLOYMENT_TYPE_NAME\") == \"Part-time / full-time\", \"Flexible\")\n",
        "    .when(col(\"EMPLOYMENT_TYPE_NAME\") == \"Part-time (â‰¤ 32 hours)\", \"Parttime\")\n",
        "    .when(col(\"EMPLOYMENT_TYPE_NAME\") == \"Full-time (> 32 hours)\", \"Fulltime\")\n",
        "    .when(col(\"EMPLOYMENT_TYPE_NAME\").isNull(), \"Fulltime\")\n",
        "    .otherwise(col(\"EMPLOYMENT_TYPE_NAME\"))\n",
        ")\n",
        "\n",
        "\n",
        "# Clean Education level Name\n",
        "\n",
        "df_eda = df_eda.withColumn(\n",
        "    \"MIN_EDULEVELS_NAME\",\n",
        "    when(col(\"MIN_EDULEVELS_NAME\") == \"Bachelor's degree\", \"Bachelor's\")\n",
        "    .when(col(\"MIN_EDULEVELS_NAME\") == \"Ph.D. or professional degree\", \"PhD\")\n",
        "    .when(col(\"MIN_EDULEVELS_NAME\") == \"High school or GED\", \"High School\")\n",
        "    .when(col(\"MIN_EDULEVELS_NAME\") == \"Master's degree\", \"Master's\")\n",
        "    .when(col(\"MIN_EDULEVELS_NAME\") == \"No Education Listed\", \"None\")\n",
        "    .when(col(\"MIN_EDULEVELS_NAME\") == \"Associate degree\", \"Associate\")\n",
        "    .when(col(\"MIN_EDULEVELS_NAME\").isNull(), \"None\")\n",
        "    .otherwise(col(\"MIN_EDULEVELS_NAME\"))\n",
        ")\n",
        "\n",
        "# Clean Company Staffing\n",
        "\n",
        "df_eda = df_eda.withColumn(\n",
        "    \"COMPANY_IS_STAFFING\",\n",
        "    when(col(\"COMPANY_IS_STAFFING\").isNull(), False)\n",
        "    .otherwise(col(\"COMPANY_IS_STAFFING\"))\n",
        ")\n",
        "\n",
        "# Clean Internship\n",
        "\n",
        "df_eda = df_eda.withColumn(\n",
        "    \"IS_INTERNSHIP\",\n",
        "    when(col(\"IS_INTERNSHIP\").isNull(), False)\n",
        "    .otherwise(col(\"IS_INTERNSHIP\"))\n",
        ")\n",
        "\n",
        "categorical_cols = [\n",
        "    \"REMOTE_TYPE_NAME\", \"EMPLOYMENT_TYPE_NAME\",\n",
        "    \"MIN_EDULEVELS_NAME\", \"COMPANY_IS_STAFFING\", \"IS_INTERNSHIP\"\n",
        "]\n",
        "\n",
        "for colname in categorical_cols:\n",
        "    print(f\"\\n---- {colname} ----\")\n",
        "    df_eda.select(colname).distinct().show(truncate=False)\n",
        "\n"
      ]
    }
  ],
  "metadata": {
    "kernelspec": {
      "display_name": ".venv",
      "language": "python",
      "name": "python3"
    },
    "language_info": {
      "codemirror_mode": {
        "name": "ipython",
        "version": 3
      },
      "file_extension": ".py",
      "mimetype": "text/x-python",
      "name": "python",
      "nbconvert_exporter": "python",
      "pygments_lexer": "ipython3",
      "version": "3.12.3"
    }
  },
  "nbformat": 4,
  "nbformat_minor": 4
}
